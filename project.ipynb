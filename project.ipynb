{
  "cells": [
    {
      "cell_type": "markdown",
      "metadata": {
        "id": "Md413FzAvFD8"
      },
      "source": [
        "# DX 704 Week 4 Project\n",
        "\n",
        "This week's project will test the learning speed of linear contextual bandits compared to unoptimized approaches.\n",
        "You will start with building a preference data set for evaluation, and then implement different variations of LinUCB and visualize how fast they learn the preferences.\n"
      ]
    },
    {
      "cell_type": "markdown",
      "metadata": {
        "id": "D3gs-tquuzJe"
      },
      "source": [
        "The full project description, a template notebook and supporting code are available on GitHub: [Project 4 Materials](https://github.com/bu-cds-dx704/dx704-project-04).\n"
      ]
    },
    {
      "cell_type": "markdown",
      "metadata": {
        "id": "OguIjc5idW3Z"
      },
      "source": [
        "## Example Code\n",
        "\n",
        "You may find it helpful to refer to these GitHub repositories of Jupyter notebooks for example code.\n",
        "\n",
        "* https://github.com/bu-cds-omds/dx601-examples\n",
        "* https://github.com/bu-cds-omds/dx602-examples\n",
        "* https://github.com/bu-cds-omds/dx603-examples\n",
        "* https://github.com/bu-cds-omds/dx704-examples\n",
        "\n",
        "Any calculations demonstrated in code examples or videos may be found in these notebooks, and you are allowed to copy this example code in your homework answers."
      ]
    },
    {
      "cell_type": "markdown",
      "metadata": {
        "id": "C8oSLkMqvMFF"
      },
      "source": [
        "## Part 1: Collect Rating Data\n",
        "\n",
        "The file \"recipes.tsv\" in this repository has information about 100 recipes.\n",
        "Make a new file \"ratings.tsv\" with two columns, recipe_slug (from recipes.tsv) and rating.\n",
        "Populate the rating column with values between 0 and 1 where 0 is the worst and 1 is the best.\n",
        "You can assign these ratings however you want within that range, but try to make it reflect a consistent set of preferences.\n",
        "These could be your preferences, or a persona of your choosing (e.g. chocolate lover, bacon-obsessed, or sweet tooth).\n",
        "Make sure that there are at least 10 ratings of zero and at least 10 ratings of one.\n"
      ]
    },
    {
      "cell_type": "markdown",
      "metadata": {
        "id": "kAwViBgKfWER"
      },
      "source": [
        "Hint: You may find it more convenient to assign raw ratings from 1 to 5 and then remap them as follows.\n",
        "\n",
        "`ratings[\"rating\"] = (ratings[\"rating_raw\"] - 1) * 0.25`"
      ]
    },
    {
      "cell_type": "code",
      "execution_count": 20,
      "metadata": {},
      "outputs": [],
      "source": [
        "import numpy as np\n",
        "import pandas as pd"
      ]
    },
    {
      "cell_type": "code",
      "execution_count": 21,
      "metadata": {},
      "outputs": [
        {
          "data": {
            "text/html": [
              "<div>\n",
              "<style scoped>\n",
              "    .dataframe tbody tr th:only-of-type {\n",
              "        vertical-align: middle;\n",
              "    }\n",
              "\n",
              "    .dataframe tbody tr th {\n",
              "        vertical-align: top;\n",
              "    }\n",
              "\n",
              "    .dataframe thead th {\n",
              "        text-align: right;\n",
              "    }\n",
              "</style>\n",
              "<table border=\"1\" class=\"dataframe\">\n",
              "  <thead>\n",
              "    <tr style=\"text-align: right;\">\n",
              "      <th></th>\n",
              "      <th>recipe_title</th>\n",
              "      <th>recipe_introduction</th>\n",
              "    </tr>\n",
              "    <tr>\n",
              "      <th>recipe_slug</th>\n",
              "      <th></th>\n",
              "      <th></th>\n",
              "    </tr>\n",
              "  </thead>\n",
              "  <tbody>\n",
              "    <tr>\n",
              "      <th>falafel</th>\n",
              "      <td>Falafel</td>\n",
              "      <td>Falafel is a popular Middle Eastern dish made ...</td>\n",
              "    </tr>\n",
              "    <tr>\n",
              "      <th>spamburger</th>\n",
              "      <td>Spamburger</td>\n",
              "      <td>Spamburger is a type of hamburger that is made...</td>\n",
              "    </tr>\n",
              "    <tr>\n",
              "      <th>bacon-fried-rice</th>\n",
              "      <td>Bacon Fried Rice</td>\n",
              "      <td>Bacon fried rice is a savory and satisfying di...</td>\n",
              "    </tr>\n",
              "    <tr>\n",
              "      <th>chicken-fingers</th>\n",
              "      <td>Chicken Fingers</td>\n",
              "      <td>Chicken fingers are a popular dish made from c...</td>\n",
              "    </tr>\n",
              "    <tr>\n",
              "      <th>apple-crisp</th>\n",
              "      <td>Apple Crisp</td>\n",
              "      <td>Apple crisp is a classic dessert made with bak...</td>\n",
              "    </tr>\n",
              "    <tr>\n",
              "      <th>...</th>\n",
              "      <td>...</td>\n",
              "      <td>...</td>\n",
              "    </tr>\n",
              "    <tr>\n",
              "      <th>bacon-mac-and-cheese</th>\n",
              "      <td>Bacon Mac And Cheese</td>\n",
              "      <td>Bacon mac and cheese is a delicious and comfor...</td>\n",
              "    </tr>\n",
              "    <tr>\n",
              "      <th>chicken-alfredo-lasagna</th>\n",
              "      <td>Chicken Alfredo Lasagna</td>\n",
              "      <td>Chicken alfredo lasagna is a delicious twist o...</td>\n",
              "    </tr>\n",
              "    <tr>\n",
              "      <th>classic-beef-lasagna</th>\n",
              "      <td>Classic Beef Lasagna</td>\n",
              "      <td>Classic beef lasagna is a hearty and comfortin...</td>\n",
              "    </tr>\n",
              "    <tr>\n",
              "      <th>vegetarian-mushroom-lasagna</th>\n",
              "      <td>Vegetarian Mushroom Lasagna</td>\n",
              "      <td>Vegetarian mushroom lasagna is a delicious and...</td>\n",
              "    </tr>\n",
              "    <tr>\n",
              "      <th>spinach-and-ricotta-lasagna</th>\n",
              "      <td>Spinach And Ricotta Lasagna</td>\n",
              "      <td>Spinach and ricotta lasagna is a delicious veg...</td>\n",
              "    </tr>\n",
              "  </tbody>\n",
              "</table>\n",
              "<p>100 rows × 2 columns</p>\n",
              "</div>"
            ],
            "text/plain": [
              "                                            recipe_title  \\\n",
              "recipe_slug                                                \n",
              "falafel                                          Falafel   \n",
              "spamburger                                    Spamburger   \n",
              "bacon-fried-rice                        Bacon Fried Rice   \n",
              "chicken-fingers                          Chicken Fingers   \n",
              "apple-crisp                                  Apple Crisp   \n",
              "...                                                  ...   \n",
              "bacon-mac-and-cheese                Bacon Mac And Cheese   \n",
              "chicken-alfredo-lasagna          Chicken Alfredo Lasagna   \n",
              "classic-beef-lasagna                Classic Beef Lasagna   \n",
              "vegetarian-mushroom-lasagna  Vegetarian Mushroom Lasagna   \n",
              "spinach-and-ricotta-lasagna  Spinach And Ricotta Lasagna   \n",
              "\n",
              "                                                           recipe_introduction  \n",
              "recipe_slug                                                                     \n",
              "falafel                      Falafel is a popular Middle Eastern dish made ...  \n",
              "spamburger                   Spamburger is a type of hamburger that is made...  \n",
              "bacon-fried-rice             Bacon fried rice is a savory and satisfying di...  \n",
              "chicken-fingers              Chicken fingers are a popular dish made from c...  \n",
              "apple-crisp                  Apple crisp is a classic dessert made with bak...  \n",
              "...                                                                        ...  \n",
              "bacon-mac-and-cheese         Bacon mac and cheese is a delicious and comfor...  \n",
              "chicken-alfredo-lasagna      Chicken alfredo lasagna is a delicious twist o...  \n",
              "classic-beef-lasagna         Classic beef lasagna is a hearty and comfortin...  \n",
              "vegetarian-mushroom-lasagna  Vegetarian mushroom lasagna is a delicious and...  \n",
              "spinach-and-ricotta-lasagna  Spinach and ricotta lasagna is a delicious veg...  \n",
              "\n",
              "[100 rows x 2 columns]"
            ]
          },
          "execution_count": 21,
          "metadata": {},
          "output_type": "execute_result"
        }
      ],
      "source": [
        "recipes = pd.read_csv('https://raw.githubusercontent.com/bu-cds-dx704/dx704-project-04/refs/heads/main/recipes.tsv', sep=\"\\t\")\n",
        "recipes = recipes.set_index(\"recipe_slug\")\n",
        "recipes"
      ]
    },
    {
      "cell_type": "code",
      "execution_count": 22,
      "metadata": {},
      "outputs": [],
      "source": [
        "def add_feature(feature_name):\n",
        "    recipes[feature_name] = recipes[\"recipe_title\"].str.lower().str.contains(feature_name.lower())"
      ]
    },
    {
      "cell_type": "code",
      "execution_count": 23,
      "metadata": {},
      "outputs": [
        {
          "data": {
            "text/html": [
              "<div>\n",
              "<style scoped>\n",
              "    .dataframe tbody tr th:only-of-type {\n",
              "        vertical-align: middle;\n",
              "    }\n",
              "\n",
              "    .dataframe tbody tr th {\n",
              "        vertical-align: top;\n",
              "    }\n",
              "\n",
              "    .dataframe thead th {\n",
              "        text-align: right;\n",
              "    }\n",
              "</style>\n",
              "<table border=\"1\" class=\"dataframe\">\n",
              "  <thead>\n",
              "    <tr style=\"text-align: right;\">\n",
              "      <th></th>\n",
              "      <th>recipe_title</th>\n",
              "      <th>recipe_introduction</th>\n",
              "      <th>apple</th>\n",
              "      <th>bacon</th>\n",
              "      <th>chicken</th>\n",
              "      <th>crisp</th>\n",
              "      <th>lasagna</th>\n",
              "      <th>veg</th>\n",
              "    </tr>\n",
              "    <tr>\n",
              "      <th>recipe_slug</th>\n",
              "      <th></th>\n",
              "      <th></th>\n",
              "      <th></th>\n",
              "      <th></th>\n",
              "      <th></th>\n",
              "      <th></th>\n",
              "      <th></th>\n",
              "      <th></th>\n",
              "    </tr>\n",
              "  </thead>\n",
              "  <tbody>\n",
              "    <tr>\n",
              "      <th>falafel</th>\n",
              "      <td>Falafel</td>\n",
              "      <td>Falafel is a popular Middle Eastern dish made ...</td>\n",
              "      <td>False</td>\n",
              "      <td>False</td>\n",
              "      <td>False</td>\n",
              "      <td>False</td>\n",
              "      <td>False</td>\n",
              "      <td>False</td>\n",
              "    </tr>\n",
              "    <tr>\n",
              "      <th>spamburger</th>\n",
              "      <td>Spamburger</td>\n",
              "      <td>Spamburger is a type of hamburger that is made...</td>\n",
              "      <td>False</td>\n",
              "      <td>False</td>\n",
              "      <td>False</td>\n",
              "      <td>False</td>\n",
              "      <td>False</td>\n",
              "      <td>False</td>\n",
              "    </tr>\n",
              "    <tr>\n",
              "      <th>bacon-fried-rice</th>\n",
              "      <td>Bacon Fried Rice</td>\n",
              "      <td>Bacon fried rice is a savory and satisfying di...</td>\n",
              "      <td>False</td>\n",
              "      <td>True</td>\n",
              "      <td>False</td>\n",
              "      <td>False</td>\n",
              "      <td>False</td>\n",
              "      <td>False</td>\n",
              "    </tr>\n",
              "    <tr>\n",
              "      <th>chicken-fingers</th>\n",
              "      <td>Chicken Fingers</td>\n",
              "      <td>Chicken fingers are a popular dish made from c...</td>\n",
              "      <td>False</td>\n",
              "      <td>False</td>\n",
              "      <td>True</td>\n",
              "      <td>False</td>\n",
              "      <td>False</td>\n",
              "      <td>False</td>\n",
              "    </tr>\n",
              "    <tr>\n",
              "      <th>apple-crisp</th>\n",
              "      <td>Apple Crisp</td>\n",
              "      <td>Apple crisp is a classic dessert made with bak...</td>\n",
              "      <td>True</td>\n",
              "      <td>False</td>\n",
              "      <td>False</td>\n",
              "      <td>True</td>\n",
              "      <td>False</td>\n",
              "      <td>False</td>\n",
              "    </tr>\n",
              "    <tr>\n",
              "      <th>...</th>\n",
              "      <td>...</td>\n",
              "      <td>...</td>\n",
              "      <td>...</td>\n",
              "      <td>...</td>\n",
              "      <td>...</td>\n",
              "      <td>...</td>\n",
              "      <td>...</td>\n",
              "      <td>...</td>\n",
              "    </tr>\n",
              "    <tr>\n",
              "      <th>bacon-mac-and-cheese</th>\n",
              "      <td>Bacon Mac And Cheese</td>\n",
              "      <td>Bacon mac and cheese is a delicious and comfor...</td>\n",
              "      <td>False</td>\n",
              "      <td>True</td>\n",
              "      <td>False</td>\n",
              "      <td>False</td>\n",
              "      <td>False</td>\n",
              "      <td>False</td>\n",
              "    </tr>\n",
              "    <tr>\n",
              "      <th>chicken-alfredo-lasagna</th>\n",
              "      <td>Chicken Alfredo Lasagna</td>\n",
              "      <td>Chicken alfredo lasagna is a delicious twist o...</td>\n",
              "      <td>False</td>\n",
              "      <td>False</td>\n",
              "      <td>True</td>\n",
              "      <td>False</td>\n",
              "      <td>True</td>\n",
              "      <td>False</td>\n",
              "    </tr>\n",
              "    <tr>\n",
              "      <th>classic-beef-lasagna</th>\n",
              "      <td>Classic Beef Lasagna</td>\n",
              "      <td>Classic beef lasagna is a hearty and comfortin...</td>\n",
              "      <td>False</td>\n",
              "      <td>False</td>\n",
              "      <td>False</td>\n",
              "      <td>False</td>\n",
              "      <td>True</td>\n",
              "      <td>False</td>\n",
              "    </tr>\n",
              "    <tr>\n",
              "      <th>vegetarian-mushroom-lasagna</th>\n",
              "      <td>Vegetarian Mushroom Lasagna</td>\n",
              "      <td>Vegetarian mushroom lasagna is a delicious and...</td>\n",
              "      <td>False</td>\n",
              "      <td>False</td>\n",
              "      <td>False</td>\n",
              "      <td>False</td>\n",
              "      <td>True</td>\n",
              "      <td>True</td>\n",
              "    </tr>\n",
              "    <tr>\n",
              "      <th>spinach-and-ricotta-lasagna</th>\n",
              "      <td>Spinach And Ricotta Lasagna</td>\n",
              "      <td>Spinach and ricotta lasagna is a delicious veg...</td>\n",
              "      <td>False</td>\n",
              "      <td>False</td>\n",
              "      <td>False</td>\n",
              "      <td>False</td>\n",
              "      <td>True</td>\n",
              "      <td>False</td>\n",
              "    </tr>\n",
              "  </tbody>\n",
              "</table>\n",
              "<p>100 rows × 8 columns</p>\n",
              "</div>"
            ],
            "text/plain": [
              "                                            recipe_title  \\\n",
              "recipe_slug                                                \n",
              "falafel                                          Falafel   \n",
              "spamburger                                    Spamburger   \n",
              "bacon-fried-rice                        Bacon Fried Rice   \n",
              "chicken-fingers                          Chicken Fingers   \n",
              "apple-crisp                                  Apple Crisp   \n",
              "...                                                  ...   \n",
              "bacon-mac-and-cheese                Bacon Mac And Cheese   \n",
              "chicken-alfredo-lasagna          Chicken Alfredo Lasagna   \n",
              "classic-beef-lasagna                Classic Beef Lasagna   \n",
              "vegetarian-mushroom-lasagna  Vegetarian Mushroom Lasagna   \n",
              "spinach-and-ricotta-lasagna  Spinach And Ricotta Lasagna   \n",
              "\n",
              "                                                           recipe_introduction  \\\n",
              "recipe_slug                                                                      \n",
              "falafel                      Falafel is a popular Middle Eastern dish made ...   \n",
              "spamburger                   Spamburger is a type of hamburger that is made...   \n",
              "bacon-fried-rice             Bacon fried rice is a savory and satisfying di...   \n",
              "chicken-fingers              Chicken fingers are a popular dish made from c...   \n",
              "apple-crisp                  Apple crisp is a classic dessert made with bak...   \n",
              "...                                                                        ...   \n",
              "bacon-mac-and-cheese         Bacon mac and cheese is a delicious and comfor...   \n",
              "chicken-alfredo-lasagna      Chicken alfredo lasagna is a delicious twist o...   \n",
              "classic-beef-lasagna         Classic beef lasagna is a hearty and comfortin...   \n",
              "vegetarian-mushroom-lasagna  Vegetarian mushroom lasagna is a delicious and...   \n",
              "spinach-and-ricotta-lasagna  Spinach and ricotta lasagna is a delicious veg...   \n",
              "\n",
              "                             apple  bacon  chicken  crisp  lasagna    veg  \n",
              "recipe_slug                                                                \n",
              "falafel                      False  False    False  False    False  False  \n",
              "spamburger                   False  False    False  False    False  False  \n",
              "bacon-fried-rice             False   True    False  False    False  False  \n",
              "chicken-fingers              False  False     True  False    False  False  \n",
              "apple-crisp                   True  False    False   True    False  False  \n",
              "...                            ...    ...      ...    ...      ...    ...  \n",
              "bacon-mac-and-cheese         False   True    False  False    False  False  \n",
              "chicken-alfredo-lasagna      False  False     True  False     True  False  \n",
              "classic-beef-lasagna         False  False    False  False     True  False  \n",
              "vegetarian-mushroom-lasagna  False  False    False  False     True   True  \n",
              "spinach-and-ricotta-lasagna  False  False    False  False     True  False  \n",
              "\n",
              "[100 rows x 8 columns]"
            ]
          },
          "execution_count": 23,
          "metadata": {},
          "output_type": "execute_result"
        }
      ],
      "source": [
        "add_feature(\"apple\")\n",
        "add_feature(\"bacon\")\n",
        "add_feature(\"chicken\")\n",
        "add_feature(\"crisp\")\n",
        "add_feature(\"lasagna\")\n",
        "add_feature(\"veg\")\n",
        "\n",
        "recipes"
      ]
    },
    {
      "cell_type": "code",
      "execution_count": 24,
      "metadata": {},
      "outputs": [
        {
          "data": {
            "text/html": [
              "<div>\n",
              "<style scoped>\n",
              "    .dataframe tbody tr th:only-of-type {\n",
              "        vertical-align: middle;\n",
              "    }\n",
              "\n",
              "    .dataframe tbody tr th {\n",
              "        vertical-align: top;\n",
              "    }\n",
              "\n",
              "    .dataframe thead th {\n",
              "        text-align: right;\n",
              "    }\n",
              "</style>\n",
              "<table border=\"1\" class=\"dataframe\">\n",
              "  <thead>\n",
              "    <tr style=\"text-align: right;\">\n",
              "      <th></th>\n",
              "      <th>recipe_title</th>\n",
              "      <th>rating_bad</th>\n",
              "      <th>rating</th>\n",
              "    </tr>\n",
              "    <tr>\n",
              "      <th>recipe_slug</th>\n",
              "      <th></th>\n",
              "      <th></th>\n",
              "      <th></th>\n",
              "    </tr>\n",
              "  </thead>\n",
              "  <tbody>\n",
              "    <tr>\n",
              "      <th>falafel</th>\n",
              "      <td>Falafel</td>\n",
              "      <td>2.299072</td>\n",
              "      <td>2.299072</td>\n",
              "    </tr>\n",
              "    <tr>\n",
              "      <th>spamburger</th>\n",
              "      <td>Spamburger</td>\n",
              "      <td>2.797707</td>\n",
              "      <td>2.797707</td>\n",
              "    </tr>\n",
              "    <tr>\n",
              "      <th>bacon-fried-rice</th>\n",
              "      <td>Bacon Fried Rice</td>\n",
              "      <td>5.000000</td>\n",
              "      <td>5.000000</td>\n",
              "    </tr>\n",
              "    <tr>\n",
              "      <th>chicken-fingers</th>\n",
              "      <td>Chicken Fingers</td>\n",
              "      <td>2.739505</td>\n",
              "      <td>2.739505</td>\n",
              "    </tr>\n",
              "    <tr>\n",
              "      <th>apple-crisp</th>\n",
              "      <td>Apple Crisp</td>\n",
              "      <td>2.597907</td>\n",
              "      <td>2.597907</td>\n",
              "    </tr>\n",
              "    <tr>\n",
              "      <th>...</th>\n",
              "      <td>...</td>\n",
              "      <td>...</td>\n",
              "      <td>...</td>\n",
              "    </tr>\n",
              "    <tr>\n",
              "      <th>bacon-mac-and-cheese</th>\n",
              "      <td>Bacon Mac And Cheese</td>\n",
              "      <td>5.000000</td>\n",
              "      <td>5.000000</td>\n",
              "    </tr>\n",
              "    <tr>\n",
              "      <th>chicken-alfredo-lasagna</th>\n",
              "      <td>Chicken Alfredo Lasagna</td>\n",
              "      <td>2.452441</td>\n",
              "      <td>2.452441</td>\n",
              "    </tr>\n",
              "    <tr>\n",
              "      <th>classic-beef-lasagna</th>\n",
              "      <td>Classic Beef Lasagna</td>\n",
              "      <td>2.487656</td>\n",
              "      <td>2.487656</td>\n",
              "    </tr>\n",
              "    <tr>\n",
              "      <th>vegetarian-mushroom-lasagna</th>\n",
              "      <td>Vegetarian Mushroom Lasagna</td>\n",
              "      <td>1.000000</td>\n",
              "      <td>1.000000</td>\n",
              "    </tr>\n",
              "    <tr>\n",
              "      <th>spinach-and-ricotta-lasagna</th>\n",
              "      <td>Spinach And Ricotta Lasagna</td>\n",
              "      <td>2.307638</td>\n",
              "      <td>2.307638</td>\n",
              "    </tr>\n",
              "  </tbody>\n",
              "</table>\n",
              "<p>100 rows × 3 columns</p>\n",
              "</div>"
            ],
            "text/plain": [
              "                                            recipe_title  rating_bad    rating\n",
              "recipe_slug                                                                   \n",
              "falafel                                          Falafel    2.299072  2.299072\n",
              "spamburger                                    Spamburger    2.797707  2.797707\n",
              "bacon-fried-rice                        Bacon Fried Rice    5.000000  5.000000\n",
              "chicken-fingers                          Chicken Fingers    2.739505  2.739505\n",
              "apple-crisp                                  Apple Crisp    2.597907  2.597907\n",
              "...                                                  ...         ...       ...\n",
              "bacon-mac-and-cheese                Bacon Mac And Cheese    5.000000  5.000000\n",
              "chicken-alfredo-lasagna          Chicken Alfredo Lasagna    2.452441  2.452441\n",
              "classic-beef-lasagna                Classic Beef Lasagna    2.487656  2.487656\n",
              "vegetarian-mushroom-lasagna  Vegetarian Mushroom Lasagna    1.000000  1.000000\n",
              "spinach-and-ricotta-lasagna  Spinach And Ricotta Lasagna    2.307638  2.307638\n",
              "\n",
              "[100 rows x 3 columns]"
            ]
          },
          "execution_count": 24,
          "metadata": {},
          "output_type": "execute_result"
        }
      ],
      "source": [
        "ratings = pd.DataFrame({\"recipe_title\": recipes[\"recipe_title\"],\n",
        "                               \"rating_bad\": np.random.uniform(low=2, high=3, size=len(recipes))},\n",
        "                              index=recipes.index)\n",
        "ratings.loc[recipes['veg'], 'rating_bad'] = 1\n",
        "ratings.loc[recipes['bacon'], 'rating_bad'] = 5\n",
        "ratings['rating'] = ratings['rating_bad']\n",
        "ratings"
      ]
    },
    {
      "cell_type": "code",
      "execution_count": 25,
      "metadata": {},
      "outputs": [],
      "source": [
        "ratings[\"rating\"] = (ratings[\"rating_bad\"] - 1) * 0.25"
      ]
    },
    {
      "cell_type": "code",
      "execution_count": 32,
      "metadata": {},
      "outputs": [],
      "source": [
        "# Force 10 lowest ratings to 0 and 10 highest to 1\n",
        "lowest_idx = ratings[\"rating\"].nsmallest(10).index\n",
        "ratings.loc[lowest_idx, \"rating\"] = 0.0\n",
        "\n",
        "highest_idx = ratings[\"rating\"].nlargest(10).index\n",
        "ratings.loc[highest_idx, \"rating\"] = 1.0\n"
      ]
    },
    {
      "cell_type": "code",
      "execution_count": 33,
      "metadata": {},
      "outputs": [
        {
          "data": {
            "text/html": [
              "<div>\n",
              "<style scoped>\n",
              "    .dataframe tbody tr th:only-of-type {\n",
              "        vertical-align: middle;\n",
              "    }\n",
              "\n",
              "    .dataframe tbody tr th {\n",
              "        vertical-align: top;\n",
              "    }\n",
              "\n",
              "    .dataframe thead th {\n",
              "        text-align: right;\n",
              "    }\n",
              "</style>\n",
              "<table border=\"1\" class=\"dataframe\">\n",
              "  <thead>\n",
              "    <tr style=\"text-align: right;\">\n",
              "      <th></th>\n",
              "      <th>recipe_title</th>\n",
              "      <th>rating_bad</th>\n",
              "      <th>rating</th>\n",
              "    </tr>\n",
              "    <tr>\n",
              "      <th>recipe_slug</th>\n",
              "      <th></th>\n",
              "      <th></th>\n",
              "      <th></th>\n",
              "    </tr>\n",
              "  </thead>\n",
              "  <tbody>\n",
              "    <tr>\n",
              "      <th>falafel</th>\n",
              "      <td>Falafel</td>\n",
              "      <td>2.299072</td>\n",
              "      <td>0.324768</td>\n",
              "    </tr>\n",
              "    <tr>\n",
              "      <th>spamburger</th>\n",
              "      <td>Spamburger</td>\n",
              "      <td>2.797707</td>\n",
              "      <td>0.449427</td>\n",
              "    </tr>\n",
              "    <tr>\n",
              "      <th>bacon-fried-rice</th>\n",
              "      <td>Bacon Fried Rice</td>\n",
              "      <td>5.000000</td>\n",
              "      <td>1.000000</td>\n",
              "    </tr>\n",
              "    <tr>\n",
              "      <th>chicken-fingers</th>\n",
              "      <td>Chicken Fingers</td>\n",
              "      <td>2.739505</td>\n",
              "      <td>0.434876</td>\n",
              "    </tr>\n",
              "    <tr>\n",
              "      <th>apple-crisp</th>\n",
              "      <td>Apple Crisp</td>\n",
              "      <td>2.597907</td>\n",
              "      <td>0.399477</td>\n",
              "    </tr>\n",
              "    <tr>\n",
              "      <th>...</th>\n",
              "      <td>...</td>\n",
              "      <td>...</td>\n",
              "      <td>...</td>\n",
              "    </tr>\n",
              "    <tr>\n",
              "      <th>bacon-mac-and-cheese</th>\n",
              "      <td>Bacon Mac And Cheese</td>\n",
              "      <td>5.000000</td>\n",
              "      <td>1.000000</td>\n",
              "    </tr>\n",
              "    <tr>\n",
              "      <th>chicken-alfredo-lasagna</th>\n",
              "      <td>Chicken Alfredo Lasagna</td>\n",
              "      <td>2.452441</td>\n",
              "      <td>0.363110</td>\n",
              "    </tr>\n",
              "    <tr>\n",
              "      <th>classic-beef-lasagna</th>\n",
              "      <td>Classic Beef Lasagna</td>\n",
              "      <td>2.487656</td>\n",
              "      <td>0.371914</td>\n",
              "    </tr>\n",
              "    <tr>\n",
              "      <th>vegetarian-mushroom-lasagna</th>\n",
              "      <td>Vegetarian Mushroom Lasagna</td>\n",
              "      <td>1.000000</td>\n",
              "      <td>0.000000</td>\n",
              "    </tr>\n",
              "    <tr>\n",
              "      <th>spinach-and-ricotta-lasagna</th>\n",
              "      <td>Spinach And Ricotta Lasagna</td>\n",
              "      <td>2.307638</td>\n",
              "      <td>0.326909</td>\n",
              "    </tr>\n",
              "  </tbody>\n",
              "</table>\n",
              "<p>100 rows × 3 columns</p>\n",
              "</div>"
            ],
            "text/plain": [
              "                                            recipe_title  rating_bad    rating\n",
              "recipe_slug                                                                   \n",
              "falafel                                          Falafel    2.299072  0.324768\n",
              "spamburger                                    Spamburger    2.797707  0.449427\n",
              "bacon-fried-rice                        Bacon Fried Rice    5.000000  1.000000\n",
              "chicken-fingers                          Chicken Fingers    2.739505  0.434876\n",
              "apple-crisp                                  Apple Crisp    2.597907  0.399477\n",
              "...                                                  ...         ...       ...\n",
              "bacon-mac-and-cheese                Bacon Mac And Cheese    5.000000  1.000000\n",
              "chicken-alfredo-lasagna          Chicken Alfredo Lasagna    2.452441  0.363110\n",
              "classic-beef-lasagna                Classic Beef Lasagna    2.487656  0.371914\n",
              "vegetarian-mushroom-lasagna  Vegetarian Mushroom Lasagna    1.000000  0.000000\n",
              "spinach-and-ricotta-lasagna  Spinach And Ricotta Lasagna    2.307638  0.326909\n",
              "\n",
              "[100 rows x 3 columns]"
            ]
          },
          "execution_count": 33,
          "metadata": {},
          "output_type": "execute_result"
        }
      ],
      "source": [
        "ratings"
      ]
    },
    {
      "cell_type": "code",
      "execution_count": 34,
      "metadata": {},
      "outputs": [],
      "source": [
        "ratings.reset_index().to_csv(\"ratings.tsv\", sep=\"\\t\", index=False)"
      ]
    },
    {
      "cell_type": "markdown",
      "metadata": {
        "id": "Eh7UaX6OvuWo"
      },
      "source": [
        "Submit \"ratings.tsv\" in Gradescope."
      ]
    },
    {
      "cell_type": "markdown",
      "metadata": {
        "id": "NiCwaZwr5M67"
      },
      "source": [
        "## Part 2: Construct Model Input\n",
        "\n",
        "Use your file \"ratings.tsv\" combined with \"recipe-tags.tsv\" to create a new file \"features.tsv\" with a column recipe_slug, a column bias which is hard-coded to one, and a column for each tag that appears in \"recipe-tags.tsv\".\n",
        "The tag column in this file should be a 0-1 encoding of the recipe tags for each recipe.\n",
        "[Pandas reshaping function methods](https://pandas.pydata.org/docs/user_guide/reshaping.html) may be helpful."
      ]
    },
    {
      "cell_type": "markdown",
      "metadata": {
        "id": "8WWi_JJXocEb"
      },
      "source": [
        "The bias column will make later LinUCB calculations easier since it will just be another dimension."
      ]
    },
    {
      "cell_type": "markdown",
      "metadata": {
        "id": "MHR-BsD9539j"
      },
      "source": [
        "Hint: For later modeling steps, it will be important to have the feature data (inputs) and the rating data (target outputs) in the same order.\n",
        "It is highly recommended to make sure that \"features.tsv\" and \"ratings.tsv\" have the recipe slugs in the same order."
      ]
    },
    {
      "cell_type": "code",
      "execution_count": 28,
      "metadata": {
        "id": "cGvj258d8nnv"
      },
      "outputs": [
        {
          "data": {
            "text/html": [
              "<div>\n",
              "<style scoped>\n",
              "    .dataframe tbody tr th:only-of-type {\n",
              "        vertical-align: middle;\n",
              "    }\n",
              "\n",
              "    .dataframe tbody tr th {\n",
              "        vertical-align: top;\n",
              "    }\n",
              "\n",
              "    .dataframe thead th {\n",
              "        text-align: right;\n",
              "    }\n",
              "</style>\n",
              "<table border=\"1\" class=\"dataframe\">\n",
              "  <thead>\n",
              "    <tr style=\"text-align: right;\">\n",
              "      <th></th>\n",
              "      <th>apple</th>\n",
              "      <th>bacon</th>\n",
              "      <th>chicken</th>\n",
              "      <th>crisp</th>\n",
              "      <th>lasagna</th>\n",
              "      <th>veg</th>\n",
              "    </tr>\n",
              "    <tr>\n",
              "      <th>recipe_slug</th>\n",
              "      <th></th>\n",
              "      <th></th>\n",
              "      <th></th>\n",
              "      <th></th>\n",
              "      <th></th>\n",
              "      <th></th>\n",
              "    </tr>\n",
              "  </thead>\n",
              "  <tbody>\n",
              "    <tr>\n",
              "      <th>falafel</th>\n",
              "      <td>False</td>\n",
              "      <td>False</td>\n",
              "      <td>False</td>\n",
              "      <td>False</td>\n",
              "      <td>False</td>\n",
              "      <td>False</td>\n",
              "    </tr>\n",
              "    <tr>\n",
              "      <th>spamburger</th>\n",
              "      <td>False</td>\n",
              "      <td>False</td>\n",
              "      <td>False</td>\n",
              "      <td>False</td>\n",
              "      <td>False</td>\n",
              "      <td>False</td>\n",
              "    </tr>\n",
              "    <tr>\n",
              "      <th>bacon-fried-rice</th>\n",
              "      <td>False</td>\n",
              "      <td>True</td>\n",
              "      <td>False</td>\n",
              "      <td>False</td>\n",
              "      <td>False</td>\n",
              "      <td>False</td>\n",
              "    </tr>\n",
              "    <tr>\n",
              "      <th>chicken-fingers</th>\n",
              "      <td>False</td>\n",
              "      <td>False</td>\n",
              "      <td>True</td>\n",
              "      <td>False</td>\n",
              "      <td>False</td>\n",
              "      <td>False</td>\n",
              "    </tr>\n",
              "    <tr>\n",
              "      <th>apple-crisp</th>\n",
              "      <td>True</td>\n",
              "      <td>False</td>\n",
              "      <td>False</td>\n",
              "      <td>True</td>\n",
              "      <td>False</td>\n",
              "      <td>False</td>\n",
              "    </tr>\n",
              "    <tr>\n",
              "      <th>...</th>\n",
              "      <td>...</td>\n",
              "      <td>...</td>\n",
              "      <td>...</td>\n",
              "      <td>...</td>\n",
              "      <td>...</td>\n",
              "      <td>...</td>\n",
              "    </tr>\n",
              "    <tr>\n",
              "      <th>bacon-mac-and-cheese</th>\n",
              "      <td>False</td>\n",
              "      <td>True</td>\n",
              "      <td>False</td>\n",
              "      <td>False</td>\n",
              "      <td>False</td>\n",
              "      <td>False</td>\n",
              "    </tr>\n",
              "    <tr>\n",
              "      <th>chicken-alfredo-lasagna</th>\n",
              "      <td>False</td>\n",
              "      <td>False</td>\n",
              "      <td>True</td>\n",
              "      <td>False</td>\n",
              "      <td>True</td>\n",
              "      <td>False</td>\n",
              "    </tr>\n",
              "    <tr>\n",
              "      <th>classic-beef-lasagna</th>\n",
              "      <td>False</td>\n",
              "      <td>False</td>\n",
              "      <td>False</td>\n",
              "      <td>False</td>\n",
              "      <td>True</td>\n",
              "      <td>False</td>\n",
              "    </tr>\n",
              "    <tr>\n",
              "      <th>vegetarian-mushroom-lasagna</th>\n",
              "      <td>False</td>\n",
              "      <td>False</td>\n",
              "      <td>False</td>\n",
              "      <td>False</td>\n",
              "      <td>True</td>\n",
              "      <td>True</td>\n",
              "    </tr>\n",
              "    <tr>\n",
              "      <th>spinach-and-ricotta-lasagna</th>\n",
              "      <td>False</td>\n",
              "      <td>False</td>\n",
              "      <td>False</td>\n",
              "      <td>False</td>\n",
              "      <td>True</td>\n",
              "      <td>False</td>\n",
              "    </tr>\n",
              "  </tbody>\n",
              "</table>\n",
              "<p>100 rows × 6 columns</p>\n",
              "</div>"
            ],
            "text/plain": [
              "                             apple  bacon  chicken  crisp  lasagna    veg\n",
              "recipe_slug                                                              \n",
              "falafel                      False  False    False  False    False  False\n",
              "spamburger                   False  False    False  False    False  False\n",
              "bacon-fried-rice             False   True    False  False    False  False\n",
              "chicken-fingers              False  False     True  False    False  False\n",
              "apple-crisp                   True  False    False   True    False  False\n",
              "...                            ...    ...      ...    ...      ...    ...\n",
              "bacon-mac-and-cheese         False   True    False  False    False  False\n",
              "chicken-alfredo-lasagna      False  False     True  False     True  False\n",
              "classic-beef-lasagna         False  False    False  False     True  False\n",
              "vegetarian-mushroom-lasagna  False  False    False  False     True   True\n",
              "spinach-and-ricotta-lasagna  False  False    False  False     True  False\n",
              "\n",
              "[100 rows x 6 columns]"
            ]
          },
          "execution_count": 28,
          "metadata": {},
          "output_type": "execute_result"
        }
      ],
      "source": [
        "# YOUR CHANGES HERE\n",
        "features = recipes[[c for c in recipes.columns if not c.startswith(\"recipe_\")]]\n",
        "features"
      ]
    },
    {
      "cell_type": "code",
      "execution_count": 29,
      "metadata": {},
      "outputs": [
        {
          "data": {
            "text/html": [
              "<div>\n",
              "<style scoped>\n",
              "    .dataframe tbody tr th:only-of-type {\n",
              "        vertical-align: middle;\n",
              "    }\n",
              "\n",
              "    .dataframe tbody tr th {\n",
              "        vertical-align: top;\n",
              "    }\n",
              "\n",
              "    .dataframe thead th {\n",
              "        text-align: right;\n",
              "    }\n",
              "</style>\n",
              "<table border=\"1\" class=\"dataframe\">\n",
              "  <thead>\n",
              "    <tr style=\"text-align: right;\">\n",
              "      <th></th>\n",
              "      <th>apple</th>\n",
              "      <th>bacon</th>\n",
              "      <th>chicken</th>\n",
              "      <th>crisp</th>\n",
              "      <th>lasagna</th>\n",
              "      <th>veg</th>\n",
              "    </tr>\n",
              "    <tr>\n",
              "      <th>recipe_slug</th>\n",
              "      <th></th>\n",
              "      <th></th>\n",
              "      <th></th>\n",
              "      <th></th>\n",
              "      <th></th>\n",
              "      <th></th>\n",
              "    </tr>\n",
              "  </thead>\n",
              "  <tbody>\n",
              "    <tr>\n",
              "      <th>falafel</th>\n",
              "      <td>0</td>\n",
              "      <td>0</td>\n",
              "      <td>0</td>\n",
              "      <td>0</td>\n",
              "      <td>0</td>\n",
              "      <td>0</td>\n",
              "    </tr>\n",
              "    <tr>\n",
              "      <th>spamburger</th>\n",
              "      <td>0</td>\n",
              "      <td>0</td>\n",
              "      <td>0</td>\n",
              "      <td>0</td>\n",
              "      <td>0</td>\n",
              "      <td>0</td>\n",
              "    </tr>\n",
              "    <tr>\n",
              "      <th>bacon-fried-rice</th>\n",
              "      <td>0</td>\n",
              "      <td>1</td>\n",
              "      <td>0</td>\n",
              "      <td>0</td>\n",
              "      <td>0</td>\n",
              "      <td>0</td>\n",
              "    </tr>\n",
              "    <tr>\n",
              "      <th>chicken-fingers</th>\n",
              "      <td>0</td>\n",
              "      <td>0</td>\n",
              "      <td>1</td>\n",
              "      <td>0</td>\n",
              "      <td>0</td>\n",
              "      <td>0</td>\n",
              "    </tr>\n",
              "    <tr>\n",
              "      <th>apple-crisp</th>\n",
              "      <td>1</td>\n",
              "      <td>0</td>\n",
              "      <td>0</td>\n",
              "      <td>1</td>\n",
              "      <td>0</td>\n",
              "      <td>0</td>\n",
              "    </tr>\n",
              "    <tr>\n",
              "      <th>...</th>\n",
              "      <td>...</td>\n",
              "      <td>...</td>\n",
              "      <td>...</td>\n",
              "      <td>...</td>\n",
              "      <td>...</td>\n",
              "      <td>...</td>\n",
              "    </tr>\n",
              "    <tr>\n",
              "      <th>bacon-mac-and-cheese</th>\n",
              "      <td>0</td>\n",
              "      <td>1</td>\n",
              "      <td>0</td>\n",
              "      <td>0</td>\n",
              "      <td>0</td>\n",
              "      <td>0</td>\n",
              "    </tr>\n",
              "    <tr>\n",
              "      <th>chicken-alfredo-lasagna</th>\n",
              "      <td>0</td>\n",
              "      <td>0</td>\n",
              "      <td>1</td>\n",
              "      <td>0</td>\n",
              "      <td>1</td>\n",
              "      <td>0</td>\n",
              "    </tr>\n",
              "    <tr>\n",
              "      <th>classic-beef-lasagna</th>\n",
              "      <td>0</td>\n",
              "      <td>0</td>\n",
              "      <td>0</td>\n",
              "      <td>0</td>\n",
              "      <td>1</td>\n",
              "      <td>0</td>\n",
              "    </tr>\n",
              "    <tr>\n",
              "      <th>vegetarian-mushroom-lasagna</th>\n",
              "      <td>0</td>\n",
              "      <td>0</td>\n",
              "      <td>0</td>\n",
              "      <td>0</td>\n",
              "      <td>1</td>\n",
              "      <td>1</td>\n",
              "    </tr>\n",
              "    <tr>\n",
              "      <th>spinach-and-ricotta-lasagna</th>\n",
              "      <td>0</td>\n",
              "      <td>0</td>\n",
              "      <td>0</td>\n",
              "      <td>0</td>\n",
              "      <td>1</td>\n",
              "      <td>0</td>\n",
              "    </tr>\n",
              "  </tbody>\n",
              "</table>\n",
              "<p>100 rows × 6 columns</p>\n",
              "</div>"
            ],
            "text/plain": [
              "                             apple  bacon  chicken  crisp  lasagna  veg\n",
              "recipe_slug                                                            \n",
              "falafel                          0      0        0      0        0    0\n",
              "spamburger                       0      0        0      0        0    0\n",
              "bacon-fried-rice                 0      1        0      0        0    0\n",
              "chicken-fingers                  0      0        1      0        0    0\n",
              "apple-crisp                      1      0        0      1        0    0\n",
              "...                            ...    ...      ...    ...      ...  ...\n",
              "bacon-mac-and-cheese             0      1        0      0        0    0\n",
              "chicken-alfredo-lasagna          0      0        1      0        1    0\n",
              "classic-beef-lasagna             0      0        0      0        1    0\n",
              "vegetarian-mushroom-lasagna      0      0        0      0        1    1\n",
              "spinach-and-ricotta-lasagna      0      0        0      0        1    0\n",
              "\n",
              "[100 rows x 6 columns]"
            ]
          },
          "execution_count": 29,
          "metadata": {},
          "output_type": "execute_result"
        }
      ],
      "source": [
        "features = features.astype({c: int for c in features.select_dtypes(bool).columns})\n",
        "features"
      ]
    },
    {
      "cell_type": "code",
      "execution_count": 30,
      "metadata": {},
      "outputs": [
        {
          "data": {
            "text/plain": [
              "apple       4\n",
              "bacon      13\n",
              "chicken     5\n",
              "crisp       6\n",
              "lasagna     6\n",
              "veg         2\n",
              "dtype: int64"
            ]
          },
          "execution_count": 30,
          "metadata": {},
          "output_type": "execute_result"
        }
      ],
      "source": [
        "features.sum()"
      ]
    },
    {
      "cell_type": "code",
      "execution_count": 31,
      "metadata": {},
      "outputs": [
        {
          "data": {
            "text/plain": [
              "recipe_slug\n",
              "falafel                        0\n",
              "spamburger                     0\n",
              "bacon-fried-rice               1\n",
              "chicken-fingers                1\n",
              "apple-crisp                    2\n",
              "                              ..\n",
              "bacon-mac-and-cheese           1\n",
              "chicken-alfredo-lasagna        2\n",
              "classic-beef-lasagna           1\n",
              "vegetarian-mushroom-lasagna    2\n",
              "spinach-and-ricotta-lasagna    1\n",
              "Length: 100, dtype: int64"
            ]
          },
          "execution_count": 31,
          "metadata": {},
          "output_type": "execute_result"
        }
      ],
      "source": [
        "features.T.sum().T"
      ]
    },
    {
      "cell_type": "code",
      "execution_count": 13,
      "metadata": {},
      "outputs": [],
      "source": [
        "features.to_csv(\"features.tsv\", sep=\"\\t\", index=False)"
      ]
    },
    {
      "cell_type": "markdown",
      "metadata": {
        "id": "w63ji-Oi6oH7"
      },
      "source": [
        "Submit \"features.tsv\" in Gradescope."
      ]
    },
    {
      "cell_type": "markdown",
      "metadata": {
        "id": "4TeXvznlwJzo"
      },
      "source": [
        "## Part 3: Linear Preference Model\n",
        "\n",
        "Use your feature and rating files to build a ridge regression model with ridge regression's regularization parameter $\\alpha$ set to 1.\n"
      ]
    },
    {
      "cell_type": "markdown",
      "metadata": {
        "id": "aVlUnVv4oDIk"
      },
      "source": [
        "Hint: If you are using scikit-learn modeling classes, you should use `fit_intercept=False` since that intercept value will be redundant with the bias coefficient."
      ]
    },
    {
      "cell_type": "markdown",
      "metadata": {
        "id": "NLrBu-z7A45W"
      },
      "source": [
        "Hint: The estimate component of the bounds should match the previous estimate, so you should be able to just focus on the variance component of the bounds now."
      ]
    },
    {
      "cell_type": "code",
      "execution_count": 14,
      "metadata": {
        "id": "dxtiRunPwPYz"
      },
      "outputs": [
        {
          "data": {
            "text/html": [
              "<div>\n",
              "<style scoped>\n",
              "    .dataframe tbody tr th:only-of-type {\n",
              "        vertical-align: middle;\n",
              "    }\n",
              "\n",
              "    .dataframe tbody tr th {\n",
              "        vertical-align: top;\n",
              "    }\n",
              "\n",
              "    .dataframe thead th {\n",
              "        text-align: right;\n",
              "    }\n",
              "</style>\n",
              "<table border=\"1\" class=\"dataframe\">\n",
              "  <thead>\n",
              "    <tr style=\"text-align: right;\">\n",
              "      <th></th>\n",
              "      <th>feature</th>\n",
              "      <th>coefficient</th>\n",
              "    </tr>\n",
              "  </thead>\n",
              "  <tbody>\n",
              "    <tr>\n",
              "      <th>0</th>\n",
              "      <td>apple</td>\n",
              "      <td>0.155055</td>\n",
              "    </tr>\n",
              "    <tr>\n",
              "      <th>1</th>\n",
              "      <td>bacon</td>\n",
              "      <td>0.911465</td>\n",
              "    </tr>\n",
              "    <tr>\n",
              "      <th>2</th>\n",
              "      <td>chicken</td>\n",
              "      <td>0.239493</td>\n",
              "    </tr>\n",
              "    <tr>\n",
              "      <th>3</th>\n",
              "      <td>crisp</td>\n",
              "      <td>0.284468</td>\n",
              "    </tr>\n",
              "    <tr>\n",
              "      <th>4</th>\n",
              "      <td>lasagna</td>\n",
              "      <td>0.205860</td>\n",
              "    </tr>\n",
              "    <tr>\n",
              "      <th>5</th>\n",
              "      <td>veg</td>\n",
              "      <td>-0.137240</td>\n",
              "    </tr>\n",
              "  </tbody>\n",
              "</table>\n",
              "</div>"
            ],
            "text/plain": [
              "   feature  coefficient\n",
              "0    apple     0.155055\n",
              "1    bacon     0.911465\n",
              "2  chicken     0.239493\n",
              "3    crisp     0.284468\n",
              "4  lasagna     0.205860\n",
              "5      veg    -0.137240"
            ]
          },
          "execution_count": 14,
          "metadata": {},
          "output_type": "execute_result"
        }
      ],
      "source": [
        "# YOUR CHANGES HERE\n",
        "from sklearn.linear_model import Ridge\n",
        "\n",
        "# Load data in\n",
        "ratings = pd.read_csv(\"ratings.tsv\", sep=\"\\t\")\n",
        "features = pd.read_csv(\"features.tsv\", sep=\"\\t\")\n",
        "\n",
        "X = features\n",
        "y = ratings[\"rating\"]\n",
        "\n",
        "# Fit ridge regression\n",
        "ridge = Ridge(alpha=1, fit_intercept=False)\n",
        "ridge.fit(X, y)\n",
        "\n",
        "model = pd.DataFrame({\n",
        "    \"feature\": X.columns,\n",
        "    \"coefficient\": ridge.coef_\n",
        "})\n",
        "\n",
        "model"
      ]
    },
    {
      "cell_type": "markdown",
      "metadata": {
        "id": "fw9LaHF_8tsA"
      },
      "source": [
        "Save the coefficients of this model in a file \"model.tsv\" with columns \"recipe_tag\" and \"coefficient\".\n",
        "Do not include the bias."
      ]
    },
    {
      "cell_type": "code",
      "execution_count": 15,
      "metadata": {
        "id": "fiMBlU4L8uSR"
      },
      "outputs": [],
      "source": [
        "# YOUR CHANGES HERE\n",
        "model.rename(columns={\"feature\": \"recipe_tag\"}, inplace=True)\n",
        "model.to_csv(\"model.tsv\", sep=\"\\t\", index=False)"
      ]
    },
    {
      "cell_type": "markdown",
      "metadata": {
        "id": "86uS_zZ0wQxC"
      },
      "source": [
        "Submit \"model.tsv\" in Gradescope."
      ]
    },
    {
      "cell_type": "markdown",
      "metadata": {
        "id": "B1Nfs7zCsDpj"
      },
      "source": [
        "## Part 4: Recipe Estimates\n",
        "\n",
        "Use the recipe model to estimate the score of every recipe.\n",
        "Save these estimates to a file \"estimates.tsv\" with columns recipe_slug and score_estimate."
      ]
    },
    {
      "cell_type": "code",
      "execution_count": 16,
      "metadata": {},
      "outputs": [
        {
          "data": {
            "text/html": [
              "<div>\n",
              "<style scoped>\n",
              "    .dataframe tbody tr th:only-of-type {\n",
              "        vertical-align: middle;\n",
              "    }\n",
              "\n",
              "    .dataframe tbody tr th {\n",
              "        vertical-align: top;\n",
              "    }\n",
              "\n",
              "    .dataframe thead th {\n",
              "        text-align: right;\n",
              "    }\n",
              "</style>\n",
              "<table border=\"1\" class=\"dataframe\">\n",
              "  <thead>\n",
              "    <tr style=\"text-align: right;\">\n",
              "      <th></th>\n",
              "      <th>row_index</th>\n",
              "      <th>score_estimate</th>\n",
              "    </tr>\n",
              "  </thead>\n",
              "  <tbody>\n",
              "    <tr>\n",
              "      <th>0</th>\n",
              "      <td>0</td>\n",
              "      <td>0.000000</td>\n",
              "    </tr>\n",
              "    <tr>\n",
              "      <th>1</th>\n",
              "      <td>1</td>\n",
              "      <td>0.000000</td>\n",
              "    </tr>\n",
              "    <tr>\n",
              "      <th>2</th>\n",
              "      <td>2</td>\n",
              "      <td>0.911465</td>\n",
              "    </tr>\n",
              "    <tr>\n",
              "      <th>3</th>\n",
              "      <td>3</td>\n",
              "      <td>0.239493</td>\n",
              "    </tr>\n",
              "    <tr>\n",
              "      <th>4</th>\n",
              "      <td>4</td>\n",
              "      <td>0.439523</td>\n",
              "    </tr>\n",
              "    <tr>\n",
              "      <th>...</th>\n",
              "      <td>...</td>\n",
              "      <td>...</td>\n",
              "    </tr>\n",
              "    <tr>\n",
              "      <th>95</th>\n",
              "      <td>95</td>\n",
              "      <td>0.911465</td>\n",
              "    </tr>\n",
              "    <tr>\n",
              "      <th>96</th>\n",
              "      <td>96</td>\n",
              "      <td>0.445352</td>\n",
              "    </tr>\n",
              "    <tr>\n",
              "      <th>97</th>\n",
              "      <td>97</td>\n",
              "      <td>0.205860</td>\n",
              "    </tr>\n",
              "    <tr>\n",
              "      <th>98</th>\n",
              "      <td>98</td>\n",
              "      <td>0.068620</td>\n",
              "    </tr>\n",
              "    <tr>\n",
              "      <th>99</th>\n",
              "      <td>99</td>\n",
              "      <td>0.205860</td>\n",
              "    </tr>\n",
              "  </tbody>\n",
              "</table>\n",
              "<p>100 rows × 2 columns</p>\n",
              "</div>"
            ],
            "text/plain": [
              "    row_index  score_estimate\n",
              "0           0        0.000000\n",
              "1           1        0.000000\n",
              "2           2        0.911465\n",
              "3           3        0.239493\n",
              "4           4        0.439523\n",
              "..        ...             ...\n",
              "95         95        0.911465\n",
              "96         96        0.445352\n",
              "97         97        0.205860\n",
              "98         98        0.068620\n",
              "99         99        0.205860\n",
              "\n",
              "[100 rows x 2 columns]"
            ]
          },
          "execution_count": 16,
          "metadata": {},
          "output_type": "execute_result"
        }
      ],
      "source": [
        "ratings  = pd.read_csv(\"ratings.tsv\",  sep=\"\\t\")        \n",
        "features = pd.read_csv(\"features.tsv\", sep=\"\\t\")        \n",
        "model    = pd.read_csv(\"model.tsv\",    sep=\"\\t\")       \n",
        "\n",
        "coef = model.set_index(\"recipe_tag\")[\"coefficient\"]\n",
        "\n",
        "use_cols = [c for c in features.columns if c in coef.index]\n",
        "missing  = [t for t in coef.index if t not in features.columns]\n",
        "for t in missing:\n",
        "    features[t] = 0\n",
        "    use_cols.append(t)\n",
        "\n",
        "use_cols = list(dict.fromkeys(use_cols))\n",
        "X    = features[use_cols]\n",
        "beta = coef.loc[use_cols].values\n",
        "score_estimate = X.dot(beta)\n",
        "\n",
        "id_candidates = [\"recipe_slug\",\"slug\",\"recipe_id\",\"id\"]\n",
        "id_col = next((c for c in id_candidates if c in features.columns), None)\n",
        "\n",
        "estimates = pd.DataFrame({\"score_estimate\": score_estimate})\n",
        "if id_col:\n",
        "    estimates.insert(0, id_col, features[id_col].values)\n",
        "else:\n",
        "    estimates.reset_index(names=\"row_index\", inplace=True)\n",
        "\n",
        "estimates"
      ]
    },
    {
      "cell_type": "code",
      "execution_count": 17,
      "metadata": {},
      "outputs": [],
      "source": [
        "estimates.to_csv(\"estimates.tsv\", sep=\"\\t\", index=False)"
      ]
    },
    {
      "cell_type": "markdown",
      "metadata": {
        "id": "i5t3uSE_srMA"
      },
      "source": [
        "Submit \"estimates.tsv\" in Gradescope."
      ]
    },
    {
      "cell_type": "markdown",
      "metadata": {
        "id": "yTBplNhRst8q"
      },
      "source": [
        "## Part 5: LinUCB Bounds\n",
        "\n",
        "Calculate the upper bounds of LinUCB using data corresponding to trying every recipe once and receiving the rating in \"ratings.tsv\" as the reward.\n",
        "Keep the ridge regression regularization parameter at 1, and set LinUCB's $\\alpha$ parameter to 2.\n",
        "Save these upper bounds to a file \"bounds.tsv\" with columns recipe_slug and score_bound."
      ]
    },
    {
      "cell_type": "code",
      "execution_count": 18,
      "metadata": {
        "id": "kY7aWD_PuP0W"
      },
      "outputs": [
        {
          "ename": "NameError",
          "evalue": "name 're' is not defined",
          "output_type": "error",
          "traceback": [
            "\u001b[31m---------------------------------------------------------------------------\u001b[39m",
            "\u001b[31mNameError\u001b[39m                                 Traceback (most recent call last)",
            "\u001b[36mCell\u001b[39m\u001b[36m \u001b[39m\u001b[32mIn[18]\u001b[39m\u001b[32m, line 43\u001b[39m\n\u001b[32m     40\u001b[39m     \u001b[38;5;28;01mreturn\u001b[39;00m s\n\u001b[32m     42\u001b[39m recipe_titles = features.index.to_series()\n\u001b[32m---> \u001b[39m\u001b[32m43\u001b[39m recipe_slugs = \u001b[43mrecipe_titles\u001b[49m\u001b[43m.\u001b[49m\u001b[43mmap\u001b[49m\u001b[43m(\u001b[49m\u001b[43mslugify\u001b[49m\u001b[43m)\u001b[49m\n\u001b[32m     45\u001b[39m bounds = pd.DataFrame({\n\u001b[32m     46\u001b[39m     \u001b[33m\"\u001b[39m\u001b[33mrecipe_slug\u001b[39m\u001b[33m\"\u001b[39m: recipe_slugs.values,\n\u001b[32m     47\u001b[39m     \u001b[33m\"\u001b[39m\u001b[33mscore_bound\u001b[39m\u001b[33m\"\u001b[39m: ucb\n\u001b[32m     48\u001b[39m })\n\u001b[32m     50\u001b[39m bounds.to_csv(\u001b[33m\"\u001b[39m\u001b[33mbounds.tsv\u001b[39m\u001b[33m\"\u001b[39m, sep=\u001b[33m\"\u001b[39m\u001b[38;5;130;01m\\t\u001b[39;00m\u001b[33m\"\u001b[39m, index=\u001b[38;5;28;01mFalse\u001b[39;00m)\n",
            "\u001b[36mFile \u001b[39m\u001b[32m~/.local/lib/python3.12/site-packages/pandas/core/series.py:4711\u001b[39m, in \u001b[36mSeries.map\u001b[39m\u001b[34m(self, arg, na_action)\u001b[39m\n\u001b[32m   4631\u001b[39m \u001b[38;5;28;01mdef\u001b[39;00m\u001b[38;5;250m \u001b[39m\u001b[34mmap\u001b[39m(\n\u001b[32m   4632\u001b[39m     \u001b[38;5;28mself\u001b[39m,\n\u001b[32m   4633\u001b[39m     arg: Callable | Mapping | Series,\n\u001b[32m   4634\u001b[39m     na_action: Literal[\u001b[33m\"\u001b[39m\u001b[33mignore\u001b[39m\u001b[33m\"\u001b[39m] | \u001b[38;5;28;01mNone\u001b[39;00m = \u001b[38;5;28;01mNone\u001b[39;00m,\n\u001b[32m   4635\u001b[39m ) -> Series:\n\u001b[32m   4636\u001b[39m \u001b[38;5;250m    \u001b[39m\u001b[33;03m\"\"\"\u001b[39;00m\n\u001b[32m   4637\u001b[39m \u001b[33;03m    Map values of Series according to an input mapping or function.\u001b[39;00m\n\u001b[32m   4638\u001b[39m \n\u001b[32m   (...)\u001b[39m\u001b[32m   4709\u001b[39m \u001b[33;03m    dtype: object\u001b[39;00m\n\u001b[32m   4710\u001b[39m \u001b[33;03m    \"\"\"\u001b[39;00m\n\u001b[32m-> \u001b[39m\u001b[32m4711\u001b[39m     new_values = \u001b[38;5;28;43mself\u001b[39;49m\u001b[43m.\u001b[49m\u001b[43m_map_values\u001b[49m\u001b[43m(\u001b[49m\u001b[43marg\u001b[49m\u001b[43m,\u001b[49m\u001b[43m \u001b[49m\u001b[43mna_action\u001b[49m\u001b[43m=\u001b[49m\u001b[43mna_action\u001b[49m\u001b[43m)\u001b[49m\n\u001b[32m   4712\u001b[39m     \u001b[38;5;28;01mreturn\u001b[39;00m \u001b[38;5;28mself\u001b[39m._constructor(new_values, index=\u001b[38;5;28mself\u001b[39m.index, copy=\u001b[38;5;28;01mFalse\u001b[39;00m).__finalize__(\n\u001b[32m   4713\u001b[39m         \u001b[38;5;28mself\u001b[39m, method=\u001b[33m\"\u001b[39m\u001b[33mmap\u001b[39m\u001b[33m\"\u001b[39m\n\u001b[32m   4714\u001b[39m     )\n",
            "\u001b[36mFile \u001b[39m\u001b[32m~/.local/lib/python3.12/site-packages/pandas/core/base.py:925\u001b[39m, in \u001b[36mIndexOpsMixin._map_values\u001b[39m\u001b[34m(self, mapper, na_action, convert)\u001b[39m\n\u001b[32m    922\u001b[39m \u001b[38;5;28;01mif\u001b[39;00m \u001b[38;5;28misinstance\u001b[39m(arr, ExtensionArray):\n\u001b[32m    923\u001b[39m     \u001b[38;5;28;01mreturn\u001b[39;00m arr.map(mapper, na_action=na_action)\n\u001b[32m--> \u001b[39m\u001b[32m925\u001b[39m \u001b[38;5;28;01mreturn\u001b[39;00m \u001b[43malgorithms\u001b[49m\u001b[43m.\u001b[49m\u001b[43mmap_array\u001b[49m\u001b[43m(\u001b[49m\u001b[43marr\u001b[49m\u001b[43m,\u001b[49m\u001b[43m \u001b[49m\u001b[43mmapper\u001b[49m\u001b[43m,\u001b[49m\u001b[43m \u001b[49m\u001b[43mna_action\u001b[49m\u001b[43m=\u001b[49m\u001b[43mna_action\u001b[49m\u001b[43m,\u001b[49m\u001b[43m \u001b[49m\u001b[43mconvert\u001b[49m\u001b[43m=\u001b[49m\u001b[43mconvert\u001b[49m\u001b[43m)\u001b[49m\n",
            "\u001b[36mFile \u001b[39m\u001b[32m~/.local/lib/python3.12/site-packages/pandas/core/algorithms.py:1743\u001b[39m, in \u001b[36mmap_array\u001b[39m\u001b[34m(arr, mapper, na_action, convert)\u001b[39m\n\u001b[32m   1741\u001b[39m values = arr.astype(\u001b[38;5;28mobject\u001b[39m, copy=\u001b[38;5;28;01mFalse\u001b[39;00m)\n\u001b[32m   1742\u001b[39m \u001b[38;5;28;01mif\u001b[39;00m na_action \u001b[38;5;129;01mis\u001b[39;00m \u001b[38;5;28;01mNone\u001b[39;00m:\n\u001b[32m-> \u001b[39m\u001b[32m1743\u001b[39m     \u001b[38;5;28;01mreturn\u001b[39;00m \u001b[43mlib\u001b[49m\u001b[43m.\u001b[49m\u001b[43mmap_infer\u001b[49m\u001b[43m(\u001b[49m\u001b[43mvalues\u001b[49m\u001b[43m,\u001b[49m\u001b[43m \u001b[49m\u001b[43mmapper\u001b[49m\u001b[43m,\u001b[49m\u001b[43m \u001b[49m\u001b[43mconvert\u001b[49m\u001b[43m=\u001b[49m\u001b[43mconvert\u001b[49m\u001b[43m)\u001b[49m\n\u001b[32m   1744\u001b[39m \u001b[38;5;28;01melse\u001b[39;00m:\n\u001b[32m   1745\u001b[39m     \u001b[38;5;28;01mreturn\u001b[39;00m lib.map_infer_mask(\n\u001b[32m   1746\u001b[39m         values, mapper, mask=isna(values).view(np.uint8), convert=convert\n\u001b[32m   1747\u001b[39m     )\n",
            "\u001b[36mFile \u001b[39m\u001b[32mpandas/_libs/lib.pyx:2999\u001b[39m, in \u001b[36mpandas._libs.lib.map_infer\u001b[39m\u001b[34m()\u001b[39m\n",
            "\u001b[36mCell\u001b[39m\u001b[36m \u001b[39m\u001b[32mIn[18]\u001b[39m\u001b[32m, line 38\u001b[39m, in \u001b[36mslugify\u001b[39m\u001b[34m(s)\u001b[39m\n\u001b[32m     36\u001b[39m s = \u001b[38;5;28mstr\u001b[39m(s).strip().lower()\n\u001b[32m     37\u001b[39m s = s.replace(\u001b[33m\"\u001b[39m\u001b[33m_\u001b[39m\u001b[33m\"\u001b[39m, \u001b[33m\"\u001b[39m\u001b[33m \u001b[39m\u001b[33m\"\u001b[39m)\n\u001b[32m---> \u001b[39m\u001b[32m38\u001b[39m s = \u001b[43mre\u001b[49m.sub(\u001b[33mr\u001b[39m\u001b[33m\"\u001b[39m\u001b[33m[^\u001b[39m\u001b[33m\\\u001b[39m\u001b[33mw\u001b[39m\u001b[33m\\\u001b[39m\u001b[33ms-]\u001b[39m\u001b[33m\"\u001b[39m, \u001b[33m\"\u001b[39m\u001b[33m\"\u001b[39m, s)   \u001b[38;5;66;03m# drop punctuation\u001b[39;00m\n\u001b[32m     39\u001b[39m s = re.sub(\u001b[33mr\u001b[39m\u001b[33m\"\u001b[39m\u001b[33m\\\u001b[39m\u001b[33ms+\u001b[39m\u001b[33m\"\u001b[39m, \u001b[33m\"\u001b[39m\u001b[33m-\u001b[39m\u001b[33m\"\u001b[39m, s)       \u001b[38;5;66;03m# spaces -> hyphens\u001b[39;00m\n\u001b[32m     40\u001b[39m \u001b[38;5;28;01mreturn\u001b[39;00m s\n",
            "\u001b[31mNameError\u001b[39m: name 're' is not defined"
          ]
        }
      ],
      "source": [
        "# YOUR CHANGES HERE\n",
        "\n",
        "features = pd.read_csv(\"features.tsv\", sep=\"\\t\")        # don't pre-force an index here\n",
        "ratings  = pd.read_csv(\"ratings.tsv\",  sep=\"\\t\").set_index(\"recipe_title\")\n",
        "\n",
        "if \"recipe_title\" in features.columns:\n",
        "    features = features.set_index(\"recipe_title\", drop=True)\n",
        "else:\n",
        "    if len(features) == len(ratings):\n",
        "        features = features.copy()\n",
        "        features.index = ratings.index\n",
        "    else:\n",
        "        raise KeyError(\n",
        "            \"Cannot align features to ratings\"\n",
        "        )\n",
        "\n",
        "X = features.select_dtypes(include=[np.number]).to_numpy(dtype=\"float64\")\n",
        "if X.shape[1] == 0:\n",
        "    raise ValueError(\"No numeric feature columns.\")\n",
        "\n",
        "recipe_choices = list(ratings.index)\n",
        "D = features.reindex(recipe_choices).select_dtypes(include=[np.number]).to_numpy(dtype=\"float64\")\n",
        "c = ratings.reindex(recipe_choices)[\"rating\"].to_numpy(dtype=\"float64\")\n",
        "\n",
        "# LinUCB with ridge\n",
        "A = np.eye(D.shape[1]) + D.T @ D     \n",
        "A_inv = np.linalg.inv(A)\n",
        "theta_hat = A_inv @ D.T @ c              \n",
        "\n",
        "means = X @ theta_hat\n",
        "vars_ = np.einsum(\"ij,jk,ik->i\", X, A_inv, X)  \n",
        "alpha = 2.0\n",
        "ucb = means + alpha * np.sqrt(np.maximum(vars_, 0.0))\n",
        "\n",
        "def slugify(s: str) -> str:\n",
        "    s = str(s).strip().lower()\n",
        "    s = s.replace(\"_\", \" \")\n",
        "    s = re.sub(r\"[^\\w\\s-]\", \"\", s)   # drop punctuation\n",
        "    s = re.sub(r\"\\s+\", \"-\", s)       # spaces -> hyphens\n",
        "    return s\n",
        "\n",
        "recipe_titles = features.index.to_series()\n",
        "recipe_slugs = recipe_titles.map(slugify)\n",
        "\n",
        "bounds = pd.DataFrame({\n",
        "    \"recipe_slug\": recipe_slugs.values,\n",
        "    \"score_bound\": ucb\n",
        "})\n",
        "\n",
        "bounds.to_csv(\"bounds.tsv\", sep=\"\\t\", index=False)\n",
        "\n",
        "print(bounds.sort_values(\"score_bound\", ascending=False).head(10))"
      ]
    },
    {
      "cell_type": "code",
      "execution_count": null,
      "metadata": {},
      "outputs": [
        {
          "ename": "NameError",
          "evalue": "name 'df' is not defined",
          "output_type": "error",
          "traceback": [
            "\u001b[31m---------------------------------------------------------------------------\u001b[39m",
            "\u001b[31mNameError\u001b[39m                                 Traceback (most recent call last)",
            "\u001b[36mCell\u001b[39m\u001b[36m \u001b[39m\u001b[32mIn[31]\u001b[39m\u001b[32m, line 60\u001b[39m\n\u001b[32m     51\u001b[39m     df = pd.DataFrame(\n\u001b[32m     52\u001b[39m         {\n\u001b[32m     53\u001b[39m             \u001b[33m\"\u001b[39m\u001b[33mscore_estimate\u001b[39m\u001b[33m\"\u001b[39m: means,\n\u001b[32m   (...)\u001b[39m\u001b[32m     56\u001b[39m         index=features.index,\n\u001b[32m     57\u001b[39m     )\n\u001b[32m     58\u001b[39m     df[\u001b[33m\"\u001b[39m\u001b[33mnum_features\u001b[39m\u001b[33m\"\u001b[39m] = (features != \u001b[32m0\u001b[39m).sum(axis=\u001b[32m1\u001b[39m)\n\u001b[32m---> \u001b[39m\u001b[32m60\u001b[39m \u001b[43mdf\u001b[49m\n",
            "\u001b[31mNameError\u001b[39m: name 'df' is not defined"
          ]
        }
      ],
      "source": [
        "\n",
        "features = pd.read_csv(\"features.tsv\", sep=\"\\t\")\n",
        "ratings  = pd.read_csv(\"ratings.tsv\", sep=\"\\t\").set_index(\"recipe_title\")\n",
        "\n",
        "# Fight with the \n",
        "if \"recipe_title\" in features.columns:\n",
        "    features = features.set_index(\"recipe_title\", drop=True)\n",
        "else:\n",
        "    if len(features) == len(ratings):\n",
        "        # Assume rows are in the same order; assign recipe titles as index\n",
        "        features = features.copy()\n",
        "        features.index = ratings.index\n",
        "    else:\n",
        "        raise KeyError(\n",
        "            \"Cannot align features to ratings: features has no 'recipe_title' \"\n",
        "            \"column and row counts differ, so I can't map recipes to feature rows.\"\n",
        "        )\n",
        "\n",
        "def calculate_bounds(recipe_choices=None, alpha=1.0):\n",
        "    if recipe_choices is None:\n",
        "        recipe_choices = []\n",
        "    recipe_choices = list(recipe_choices)\n",
        "\n",
        "    # Validate requested recipes exist\n",
        "    missing = [r for r in recipe_choices if r not in features.index]\n",
        "    if missing:\n",
        "        raise KeyError(f\"Not found in features index: {missing}\")\n",
        "\n",
        "    # Use reindex to allow repeated labels like the same recipe 3x\n",
        "    D = features.reindex(recipe_choices).to_numpy(dtype=\"float64\")\n",
        "    c = ratings.reindex(recipe_choices)[\"rating\"].to_numpy(dtype=\"float64\")\n",
        "\n",
        "    # Ridge-like posterior precision (I)\n",
        "    DTDI = np.eye(D.shape[1])\n",
        "    if len(recipe_choices) > 0:\n",
        "        DTDI += D.T @ D\n",
        "    DTDI_inv = np.linalg.inv(DTDI)\n",
        "\n",
        "    theta_hat = DTDI_inv @ D.T @ c\n",
        "    features_array = features.to_numpy(dtype=\"float64\")\n",
        "    means = features_array @ theta_hat\n",
        "\n",
        "    # Predictive variance for each recipe vector z\n",
        "    variances = []\n",
        "    for z in features_array:\n",
        "        z = z.reshape(-1, 1)\n",
        "        variances.append((z.T @ DTDI_inv @ z).item())\n",
        "    variances = np.array(variances)\n",
        "\n",
        "    df = pd.DataFrame(\n",
        "        {\n",
        "            \"score_estimate\": means,\n",
        "            \"score_bound\": means + alpha * np.sqrt(variances),\n",
        "        },\n",
        "        index=features.index,\n",
        "    )\n",
        "    df[\"num_features\"] = (features != 0).sum(axis=1)\n",
        "\n",
        "df"
      ]
    },
    {
      "cell_type": "code",
      "execution_count": null,
      "metadata": {},
      "outputs": [
        {
          "data": {
            "text/plain": [
              "['Bacon Fried Rice',\n",
              " 'Bacon Chocolate Chip Cookies',\n",
              " 'Bacon Wrapped Scallops',\n",
              " 'Bacon Egg Muffins',\n",
              " 'Bacon Souffle',\n",
              " 'Maple Bacon Donuts',\n",
              " 'Maple Bacon Pancakes',\n",
              " 'Bacon Wrapped Dates',\n",
              " 'Bacon And Egg Breakfast Sandwich',\n",
              " 'Bacon Wrapped Shrimp Skewers',\n",
              " 'Bacon Wrapped Chicken',\n",
              " 'Bacon Wrapped Asparagus',\n",
              " 'Bacon Mac And Cheese']"
            ]
          },
          "execution_count": 28,
          "metadata": {},
          "output_type": "execute_result"
        }
      ],
      "source": [
        "[x for x in features.index if \"bacon\" in x.lower() or \"mac\" in x.lower()]"
      ]
    },
    {
      "cell_type": "code",
      "execution_count": null,
      "metadata": {},
      "outputs": [
        {
          "ename": "KeyError",
          "evalue": "\"None of [Index(['Bacon Mac And Cheese', 'Bacon Mac And Cheese', 'Bacon Mac And Cheese'], dtype='object', name='apple')] are in the [index]\"",
          "output_type": "error",
          "traceback": [
            "\u001b[31m---------------------------------------------------------------------------\u001b[39m",
            "\u001b[31mKeyError\u001b[39m                                  Traceback (most recent call last)",
            "\u001b[36mCell\u001b[39m\u001b[36m \u001b[39m\u001b[32mIn[33]\u001b[39m\u001b[32m, line 1\u001b[39m\n\u001b[32m----> \u001b[39m\u001b[32m1\u001b[39m \u001b[43mcalculate_bounds\u001b[49m\u001b[43m(\u001b[49m\u001b[43m[\u001b[49m\u001b[33;43m\"\u001b[39;49m\u001b[33;43mBacon Mac And Cheese\u001b[39;49m\u001b[33;43m\"\u001b[39;49m\u001b[43m]\u001b[49m\u001b[43m*\u001b[49m\u001b[43m \u001b[49m\u001b[32;43m3\u001b[39;49m\u001b[43m)\u001b[49m\n",
            "\u001b[36mCell\u001b[39m\u001b[36m \u001b[39m\u001b[32mIn[32]\u001b[39m\u001b[32m, line 9\u001b[39m, in \u001b[36mcalculate_bounds\u001b[39m\u001b[34m(recipe_choices, alpha)\u001b[39m\n\u001b[32m      6\u001b[39m \u001b[38;5;28;01mdef\u001b[39;00m\u001b[38;5;250m \u001b[39m\u001b[34mcalculate_bounds\u001b[39m(recipe_choices=[], alpha=\u001b[32m1.0\u001b[39m):\n\u001b[32m      7\u001b[39m     recipe_choices = \u001b[38;5;28mlist\u001b[39m(recipe_choices)\n\u001b[32m----> \u001b[39m\u001b[32m9\u001b[39m     D = \u001b[43mfeatures\u001b[49m\u001b[43m.\u001b[49m\u001b[43mloc\u001b[49m\u001b[43m[\u001b[49m\u001b[43mrecipe_choices\u001b[49m\u001b[43m]\u001b[49m.to_numpy(dtype=\u001b[33m\"\u001b[39m\u001b[33mfloat64\u001b[39m\u001b[33m\"\u001b[39m)\n\u001b[32m     10\u001b[39m     c = ratings.loc[recipe_choices, \u001b[33m'\u001b[39m\u001b[33mrating\u001b[39m\u001b[33m'\u001b[39m].to_numpy(dtype=\u001b[33m\"\u001b[39m\u001b[33mfloat64\u001b[39m\u001b[33m\"\u001b[39m)\n\u001b[32m     12\u001b[39m     DTDI = np.eye(D.shape[\u001b[32m1\u001b[39m])\n",
            "\u001b[36mFile \u001b[39m\u001b[32m~/.local/lib/python3.12/site-packages/pandas/core/indexing.py:1191\u001b[39m, in \u001b[36m_LocationIndexer.__getitem__\u001b[39m\u001b[34m(self, key)\u001b[39m\n\u001b[32m   1189\u001b[39m maybe_callable = com.apply_if_callable(key, \u001b[38;5;28mself\u001b[39m.obj)\n\u001b[32m   1190\u001b[39m maybe_callable = \u001b[38;5;28mself\u001b[39m._check_deprecated_callable_usage(key, maybe_callable)\n\u001b[32m-> \u001b[39m\u001b[32m1191\u001b[39m \u001b[38;5;28;01mreturn\u001b[39;00m \u001b[38;5;28;43mself\u001b[39;49m\u001b[43m.\u001b[49m\u001b[43m_getitem_axis\u001b[49m\u001b[43m(\u001b[49m\u001b[43mmaybe_callable\u001b[49m\u001b[43m,\u001b[49m\u001b[43m \u001b[49m\u001b[43maxis\u001b[49m\u001b[43m=\u001b[49m\u001b[43maxis\u001b[49m\u001b[43m)\u001b[49m\n",
            "\u001b[36mFile \u001b[39m\u001b[32m~/.local/lib/python3.12/site-packages/pandas/core/indexing.py:1420\u001b[39m, in \u001b[36m_LocIndexer._getitem_axis\u001b[39m\u001b[34m(self, key, axis)\u001b[39m\n\u001b[32m   1417\u001b[39m     \u001b[38;5;28;01mif\u001b[39;00m \u001b[38;5;28mhasattr\u001b[39m(key, \u001b[33m\"\u001b[39m\u001b[33mndim\u001b[39m\u001b[33m\"\u001b[39m) \u001b[38;5;129;01mand\u001b[39;00m key.ndim > \u001b[32m1\u001b[39m:\n\u001b[32m   1418\u001b[39m         \u001b[38;5;28;01mraise\u001b[39;00m \u001b[38;5;167;01mValueError\u001b[39;00m(\u001b[33m\"\u001b[39m\u001b[33mCannot index with multidimensional key\u001b[39m\u001b[33m\"\u001b[39m)\n\u001b[32m-> \u001b[39m\u001b[32m1420\u001b[39m     \u001b[38;5;28;01mreturn\u001b[39;00m \u001b[38;5;28;43mself\u001b[39;49m\u001b[43m.\u001b[49m\u001b[43m_getitem_iterable\u001b[49m\u001b[43m(\u001b[49m\u001b[43mkey\u001b[49m\u001b[43m,\u001b[49m\u001b[43m \u001b[49m\u001b[43maxis\u001b[49m\u001b[43m=\u001b[49m\u001b[43maxis\u001b[49m\u001b[43m)\u001b[49m\n\u001b[32m   1422\u001b[39m \u001b[38;5;66;03m# nested tuple slicing\u001b[39;00m\n\u001b[32m   1423\u001b[39m \u001b[38;5;28;01mif\u001b[39;00m is_nested_tuple(key, labels):\n",
            "\u001b[36mFile \u001b[39m\u001b[32m~/.local/lib/python3.12/site-packages/pandas/core/indexing.py:1360\u001b[39m, in \u001b[36m_LocIndexer._getitem_iterable\u001b[39m\u001b[34m(self, key, axis)\u001b[39m\n\u001b[32m   1357\u001b[39m \u001b[38;5;28mself\u001b[39m._validate_key(key, axis)\n\u001b[32m   1359\u001b[39m \u001b[38;5;66;03m# A collection of keys\u001b[39;00m\n\u001b[32m-> \u001b[39m\u001b[32m1360\u001b[39m keyarr, indexer = \u001b[38;5;28;43mself\u001b[39;49m\u001b[43m.\u001b[49m\u001b[43m_get_listlike_indexer\u001b[49m\u001b[43m(\u001b[49m\u001b[43mkey\u001b[49m\u001b[43m,\u001b[49m\u001b[43m \u001b[49m\u001b[43maxis\u001b[49m\u001b[43m)\u001b[49m\n\u001b[32m   1361\u001b[39m \u001b[38;5;28;01mreturn\u001b[39;00m \u001b[38;5;28mself\u001b[39m.obj._reindex_with_indexers(\n\u001b[32m   1362\u001b[39m     {axis: [keyarr, indexer]}, copy=\u001b[38;5;28;01mTrue\u001b[39;00m, allow_dups=\u001b[38;5;28;01mTrue\u001b[39;00m\n\u001b[32m   1363\u001b[39m )\n",
            "\u001b[36mFile \u001b[39m\u001b[32m~/.local/lib/python3.12/site-packages/pandas/core/indexing.py:1558\u001b[39m, in \u001b[36m_LocIndexer._get_listlike_indexer\u001b[39m\u001b[34m(self, key, axis)\u001b[39m\n\u001b[32m   1555\u001b[39m ax = \u001b[38;5;28mself\u001b[39m.obj._get_axis(axis)\n\u001b[32m   1556\u001b[39m axis_name = \u001b[38;5;28mself\u001b[39m.obj._get_axis_name(axis)\n\u001b[32m-> \u001b[39m\u001b[32m1558\u001b[39m keyarr, indexer = \u001b[43max\u001b[49m\u001b[43m.\u001b[49m\u001b[43m_get_indexer_strict\u001b[49m\u001b[43m(\u001b[49m\u001b[43mkey\u001b[49m\u001b[43m,\u001b[49m\u001b[43m \u001b[49m\u001b[43maxis_name\u001b[49m\u001b[43m)\u001b[49m\n\u001b[32m   1560\u001b[39m \u001b[38;5;28;01mreturn\u001b[39;00m keyarr, indexer\n",
            "\u001b[36mFile \u001b[39m\u001b[32m~/.local/lib/python3.12/site-packages/pandas/core/indexes/base.py:6212\u001b[39m, in \u001b[36mIndex._get_indexer_strict\u001b[39m\u001b[34m(self, key, axis_name)\u001b[39m\n\u001b[32m   6209\u001b[39m \u001b[38;5;28;01melse\u001b[39;00m:\n\u001b[32m   6210\u001b[39m     keyarr, indexer, new_indexer = \u001b[38;5;28mself\u001b[39m._reindex_non_unique(keyarr)\n\u001b[32m-> \u001b[39m\u001b[32m6212\u001b[39m \u001b[38;5;28;43mself\u001b[39;49m\u001b[43m.\u001b[49m\u001b[43m_raise_if_missing\u001b[49m\u001b[43m(\u001b[49m\u001b[43mkeyarr\u001b[49m\u001b[43m,\u001b[49m\u001b[43m \u001b[49m\u001b[43mindexer\u001b[49m\u001b[43m,\u001b[49m\u001b[43m \u001b[49m\u001b[43maxis_name\u001b[49m\u001b[43m)\u001b[49m\n\u001b[32m   6214\u001b[39m keyarr = \u001b[38;5;28mself\u001b[39m.take(indexer)\n\u001b[32m   6215\u001b[39m \u001b[38;5;28;01mif\u001b[39;00m \u001b[38;5;28misinstance\u001b[39m(key, Index):\n\u001b[32m   6216\u001b[39m     \u001b[38;5;66;03m# GH 42790 - Preserve name from an Index\u001b[39;00m\n",
            "\u001b[36mFile \u001b[39m\u001b[32m~/.local/lib/python3.12/site-packages/pandas/core/indexes/base.py:6261\u001b[39m, in \u001b[36mIndex._raise_if_missing\u001b[39m\u001b[34m(self, key, indexer, axis_name)\u001b[39m\n\u001b[32m   6259\u001b[39m \u001b[38;5;28;01mif\u001b[39;00m nmissing:\n\u001b[32m   6260\u001b[39m     \u001b[38;5;28;01mif\u001b[39;00m nmissing == \u001b[38;5;28mlen\u001b[39m(indexer):\n\u001b[32m-> \u001b[39m\u001b[32m6261\u001b[39m         \u001b[38;5;28;01mraise\u001b[39;00m \u001b[38;5;167;01mKeyError\u001b[39;00m(\u001b[33mf\u001b[39m\u001b[33m\"\u001b[39m\u001b[33mNone of [\u001b[39m\u001b[38;5;132;01m{\u001b[39;00mkey\u001b[38;5;132;01m}\u001b[39;00m\u001b[33m] are in the [\u001b[39m\u001b[38;5;132;01m{\u001b[39;00maxis_name\u001b[38;5;132;01m}\u001b[39;00m\u001b[33m]\u001b[39m\u001b[33m\"\u001b[39m)\n\u001b[32m   6263\u001b[39m     not_found = \u001b[38;5;28mlist\u001b[39m(ensure_index(key)[missing_mask.nonzero()[\u001b[32m0\u001b[39m]].unique())\n\u001b[32m   6264\u001b[39m     \u001b[38;5;28;01mraise\u001b[39;00m \u001b[38;5;167;01mKeyError\u001b[39;00m(\u001b[33mf\u001b[39m\u001b[33m\"\u001b[39m\u001b[38;5;132;01m{\u001b[39;00mnot_found\u001b[38;5;132;01m}\u001b[39;00m\u001b[33m not in index\u001b[39m\u001b[33m\"\u001b[39m)\n",
            "\u001b[31mKeyError\u001b[39m: \"None of [Index(['Bacon Mac And Cheese', 'Bacon Mac And Cheese', 'Bacon Mac And Cheese'], dtype='object', name='apple')] are in the [index]\""
          ]
        }
      ],
      "source": [
        "calculate_bounds([\"Bacon Mac And Cheese\"]* 3)"
      ]
    },
    {
      "cell_type": "markdown",
      "metadata": {
        "id": "ZQ4RPppFvG-S"
      },
      "source": [
        "Submit \"bounds.tsv\" in Gradescope."
      ]
    },
    {
      "cell_type": "markdown",
      "metadata": {
        "id": "AfazOSWlwYsP"
      },
      "source": [
        "## Part 6: Make Online Recommendations\n",
        "\n",
        "Implement LinUCB to make 100 recommendations starting with no data and using the same parameters as in part 5.\n",
        "One recommendation should be made at a time and you can break ties arbitrarily.\n",
        "After each recommendation, use the rating from part 1 as the reward to update the LinUCB data.\n",
        "Record the recommendations made in a file \"recommendations.tsv\" with columns \"recipe_slug\", \"score_bound\", and \"reward\".\n",
        "The rows in this file should be in the same order as the recommendations were made."
      ]
    },
    {
      "cell_type": "code",
      "execution_count": null,
      "metadata": {
        "id": "hQ7r45B7wm4v"
      },
      "outputs": [],
      "source": [
        "# YOUR CHANGES HERE\n",
        "def try_picks(**kwargs):\n",
        "    recipe_choices = []\n",
        "    for i in range(100):\n",
        "        current_bounds = calculate_bounds([r.index[0] for r in recipe_choices], **kwargs)\n",
        "        best_bound = current_bounds[\"score_bound\"].max()\n",
        "        best_recipes = current_bounds[current_bounds[\"score_bound\"] == best_bound].copy()\n",
        "        best_recipes[\"true_rating\"] = ratings.loc[best_recipes.index, \"rating\"]\n",
        "        choice = best_recipes.sample(1)\n",
        "        recipe_choices.append(choice)\n",
        "\n",
        "    return pd.concat(recipe_choices, axis=0).reset_index()\n",
        "\n",
        "picks = try_picks()\n",
        "picks"
      ]
    },
    {
      "cell_type": "markdown",
      "metadata": {
        "id": "23jv0cD0woSt"
      },
      "source": [
        "Submit \"recommendations.tsv\" in Gradescope."
      ]
    },
    {
      "cell_type": "markdown",
      "metadata": {
        "id": "zi8lV2pbvWMs"
      },
      "source": [
        "## Part 7: Acknowledgments\n",
        "\n",
        "Make a file \"acknowledgments.txt\" documenting any outside sources or help on this project.\n",
        "If you discussed this assignment with anyone, please acknowledge them here.\n",
        "If you used any libraries not mentioned in this module's content, please list them with a brief explanation what you used them for.\n",
        "If you used any generative AI tools, please add links to your transcripts below, and any other information that you feel is necessary to comply with the generative AI policy.\n",
        "If no acknowledgements are appropriate, just write none in the file.\n"
      ]
    },
    {
      "cell_type": "markdown",
      "metadata": {
        "id": "SuNJe62UxCoH"
      },
      "source": [
        "Submit \"acknowledgments.txt\" in Gradescope."
      ]
    },
    {
      "cell_type": "markdown",
      "metadata": {
        "id": "smsTLuFcvR-I"
      },
      "source": [
        "## Part 8: Code\n",
        "\n",
        "Please submit a Jupyter notebook that can reproduce all your calculations and recreate the previously submitted files.\n"
      ]
    },
    {
      "cell_type": "markdown",
      "metadata": {
        "id": "3cgzHyF7wxpr"
      },
      "source": [
        "Submit \"project.ipynb\" in Gradescope."
      ]
    }
  ],
  "metadata": {
    "colab": {
      "toc_visible": false
    },
    "kernelspec": {
      "display_name": "Python 3",
      "name": "python3"
    },
    "language_info": {
      "codemirror_mode": {
        "name": "ipython",
        "version": 3
      },
      "file_extension": ".py",
      "mimetype": "text/x-python",
      "name": "python",
      "nbconvert_exporter": "python",
      "pygments_lexer": "ipython3",
      "version": "3.12.1"
    }
  },
  "nbformat": 4,
  "nbformat_minor": 0
}
