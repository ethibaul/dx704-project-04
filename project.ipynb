{
  "cells": [
    {
      "cell_type": "markdown",
      "metadata": {
        "id": "Md413FzAvFD8"
      },
      "source": [
        "# DX 704 Week 4 Project\n",
        "\n",
        "This week's project will test the learning speed of linear contextual bandits compared to unoptimized approaches.\n",
        "You will start with building a preference data set for evaluation, and then implement different variations of LinUCB and visualize how fast they learn the preferences.\n"
      ]
    },
    {
      "cell_type": "markdown",
      "metadata": {
        "id": "D3gs-tquuzJe"
      },
      "source": [
        "The full project description, a template notebook and supporting code are available on GitHub: [Project 4 Materials](https://github.com/bu-cds-dx704/dx704-project-04).\n"
      ]
    },
    {
      "cell_type": "markdown",
      "metadata": {
        "id": "OguIjc5idW3Z"
      },
      "source": [
        "## Example Code\n",
        "\n",
        "You may find it helpful to refer to these GitHub repositories of Jupyter notebooks for example code.\n",
        "\n",
        "* https://github.com/bu-cds-omds/dx601-examples\n",
        "* https://github.com/bu-cds-omds/dx602-examples\n",
        "* https://github.com/bu-cds-omds/dx603-examples\n",
        "* https://github.com/bu-cds-omds/dx704-examples\n",
        "\n",
        "Any calculations demonstrated in code examples or videos may be found in these notebooks, and you are allowed to copy this example code in your homework answers."
      ]
    },
    {
      "cell_type": "markdown",
      "metadata": {
        "id": "C8oSLkMqvMFF"
      },
      "source": [
        "## Part 1: Collect Rating Data\n",
        "\n",
        "The file \"recipes.tsv\" in this repository has information about 100 recipes.\n",
        "Make a new file \"ratings.tsv\" with two columns, recipe_slug (from recipes.tsv) and rating.\n",
        "Populate the rating column with values between 0 and 1 where 0 is the worst and 1 is the best.\n",
        "You can assign these ratings however you want within that range, but try to make it reflect a consistent set of preferences.\n",
        "These could be your preferences, or a persona of your choosing (e.g. chocolate lover, bacon-obsessed, or sweet tooth).\n",
        "Make sure that there are at least 10 ratings of zero and at least 10 ratings of one.\n"
      ]
    },
    {
      "cell_type": "markdown",
      "metadata": {
        "id": "kAwViBgKfWER"
      },
      "source": [
        "Hint: You may find it more convenient to assign raw ratings from 1 to 5 and then remap them as follows.\n",
        "\n",
        "`ratings[\"rating\"] = (ratings[\"rating_raw\"] - 1) * 0.25`"
      ]
    },
    {
      "cell_type": "code",
      "execution_count": 1,
      "metadata": {},
      "outputs": [],
      "source": [
        "import numpy as np\n",
        "import pandas as pd"
      ]
    },
    {
      "cell_type": "code",
      "execution_count": 2,
      "metadata": {},
      "outputs": [
        {
          "data": {
            "text/html": [
              "<div>\n",
              "<style scoped>\n",
              "    .dataframe tbody tr th:only-of-type {\n",
              "        vertical-align: middle;\n",
              "    }\n",
              "\n",
              "    .dataframe tbody tr th {\n",
              "        vertical-align: top;\n",
              "    }\n",
              "\n",
              "    .dataframe thead th {\n",
              "        text-align: right;\n",
              "    }\n",
              "</style>\n",
              "<table border=\"1\" class=\"dataframe\">\n",
              "  <thead>\n",
              "    <tr style=\"text-align: right;\">\n",
              "      <th></th>\n",
              "      <th>recipe_title</th>\n",
              "      <th>recipe_introduction</th>\n",
              "    </tr>\n",
              "    <tr>\n",
              "      <th>recipe_slug</th>\n",
              "      <th></th>\n",
              "      <th></th>\n",
              "    </tr>\n",
              "  </thead>\n",
              "  <tbody>\n",
              "    <tr>\n",
              "      <th>falafel</th>\n",
              "      <td>Falafel</td>\n",
              "      <td>Falafel is a popular Middle Eastern dish made ...</td>\n",
              "    </tr>\n",
              "    <tr>\n",
              "      <th>spamburger</th>\n",
              "      <td>Spamburger</td>\n",
              "      <td>Spamburger is a type of hamburger that is made...</td>\n",
              "    </tr>\n",
              "    <tr>\n",
              "      <th>bacon-fried-rice</th>\n",
              "      <td>Bacon Fried Rice</td>\n",
              "      <td>Bacon fried rice is a savory and satisfying di...</td>\n",
              "    </tr>\n",
              "    <tr>\n",
              "      <th>chicken-fingers</th>\n",
              "      <td>Chicken Fingers</td>\n",
              "      <td>Chicken fingers are a popular dish made from c...</td>\n",
              "    </tr>\n",
              "    <tr>\n",
              "      <th>apple-crisp</th>\n",
              "      <td>Apple Crisp</td>\n",
              "      <td>Apple crisp is a classic dessert made with bak...</td>\n",
              "    </tr>\n",
              "    <tr>\n",
              "      <th>...</th>\n",
              "      <td>...</td>\n",
              "      <td>...</td>\n",
              "    </tr>\n",
              "    <tr>\n",
              "      <th>bacon-mac-and-cheese</th>\n",
              "      <td>Bacon Mac And Cheese</td>\n",
              "      <td>Bacon mac and cheese is a delicious and comfor...</td>\n",
              "    </tr>\n",
              "    <tr>\n",
              "      <th>chicken-alfredo-lasagna</th>\n",
              "      <td>Chicken Alfredo Lasagna</td>\n",
              "      <td>Chicken alfredo lasagna is a delicious twist o...</td>\n",
              "    </tr>\n",
              "    <tr>\n",
              "      <th>classic-beef-lasagna</th>\n",
              "      <td>Classic Beef Lasagna</td>\n",
              "      <td>Classic beef lasagna is a hearty and comfortin...</td>\n",
              "    </tr>\n",
              "    <tr>\n",
              "      <th>vegetarian-mushroom-lasagna</th>\n",
              "      <td>Vegetarian Mushroom Lasagna</td>\n",
              "      <td>Vegetarian mushroom lasagna is a delicious and...</td>\n",
              "    </tr>\n",
              "    <tr>\n",
              "      <th>spinach-and-ricotta-lasagna</th>\n",
              "      <td>Spinach And Ricotta Lasagna</td>\n",
              "      <td>Spinach and ricotta lasagna is a delicious veg...</td>\n",
              "    </tr>\n",
              "  </tbody>\n",
              "</table>\n",
              "<p>100 rows × 2 columns</p>\n",
              "</div>"
            ],
            "text/plain": [
              "                                            recipe_title  \\\n",
              "recipe_slug                                                \n",
              "falafel                                          Falafel   \n",
              "spamburger                                    Spamburger   \n",
              "bacon-fried-rice                        Bacon Fried Rice   \n",
              "chicken-fingers                          Chicken Fingers   \n",
              "apple-crisp                                  Apple Crisp   \n",
              "...                                                  ...   \n",
              "bacon-mac-and-cheese                Bacon Mac And Cheese   \n",
              "chicken-alfredo-lasagna          Chicken Alfredo Lasagna   \n",
              "classic-beef-lasagna                Classic Beef Lasagna   \n",
              "vegetarian-mushroom-lasagna  Vegetarian Mushroom Lasagna   \n",
              "spinach-and-ricotta-lasagna  Spinach And Ricotta Lasagna   \n",
              "\n",
              "                                                           recipe_introduction  \n",
              "recipe_slug                                                                     \n",
              "falafel                      Falafel is a popular Middle Eastern dish made ...  \n",
              "spamburger                   Spamburger is a type of hamburger that is made...  \n",
              "bacon-fried-rice             Bacon fried rice is a savory and satisfying di...  \n",
              "chicken-fingers              Chicken fingers are a popular dish made from c...  \n",
              "apple-crisp                  Apple crisp is a classic dessert made with bak...  \n",
              "...                                                                        ...  \n",
              "bacon-mac-and-cheese         Bacon mac and cheese is a delicious and comfor...  \n",
              "chicken-alfredo-lasagna      Chicken alfredo lasagna is a delicious twist o...  \n",
              "classic-beef-lasagna         Classic beef lasagna is a hearty and comfortin...  \n",
              "vegetarian-mushroom-lasagna  Vegetarian mushroom lasagna is a delicious and...  \n",
              "spinach-and-ricotta-lasagna  Spinach and ricotta lasagna is a delicious veg...  \n",
              "\n",
              "[100 rows x 2 columns]"
            ]
          },
          "execution_count": 2,
          "metadata": {},
          "output_type": "execute_result"
        }
      ],
      "source": [
        "recipes = pd.read_csv('https://raw.githubusercontent.com/bu-cds-dx704/dx704-project-04/refs/heads/main/recipes.tsv', sep=\"\\t\")\n",
        "recipes = recipes.set_index(\"recipe_slug\")\n",
        "recipes"
      ]
    },
    {
      "cell_type": "code",
      "execution_count": 3,
      "metadata": {},
      "outputs": [],
      "source": [
        "def add_feature(feature_name):\n",
        "    recipes[feature_name] = recipes[\"recipe_title\"].str.lower().str.contains(feature_name.lower())"
      ]
    },
    {
      "cell_type": "code",
      "execution_count": 4,
      "metadata": {},
      "outputs": [
        {
          "data": {
            "text/html": [
              "<div>\n",
              "<style scoped>\n",
              "    .dataframe tbody tr th:only-of-type {\n",
              "        vertical-align: middle;\n",
              "    }\n",
              "\n",
              "    .dataframe tbody tr th {\n",
              "        vertical-align: top;\n",
              "    }\n",
              "\n",
              "    .dataframe thead th {\n",
              "        text-align: right;\n",
              "    }\n",
              "</style>\n",
              "<table border=\"1\" class=\"dataframe\">\n",
              "  <thead>\n",
              "    <tr style=\"text-align: right;\">\n",
              "      <th></th>\n",
              "      <th>recipe_title</th>\n",
              "      <th>recipe_introduction</th>\n",
              "      <th>apple</th>\n",
              "      <th>bacon</th>\n",
              "      <th>chicken</th>\n",
              "      <th>crisp</th>\n",
              "      <th>lasagna</th>\n",
              "      <th>veg</th>\n",
              "    </tr>\n",
              "    <tr>\n",
              "      <th>recipe_slug</th>\n",
              "      <th></th>\n",
              "      <th></th>\n",
              "      <th></th>\n",
              "      <th></th>\n",
              "      <th></th>\n",
              "      <th></th>\n",
              "      <th></th>\n",
              "      <th></th>\n",
              "    </tr>\n",
              "  </thead>\n",
              "  <tbody>\n",
              "    <tr>\n",
              "      <th>falafel</th>\n",
              "      <td>Falafel</td>\n",
              "      <td>Falafel is a popular Middle Eastern dish made ...</td>\n",
              "      <td>False</td>\n",
              "      <td>False</td>\n",
              "      <td>False</td>\n",
              "      <td>False</td>\n",
              "      <td>False</td>\n",
              "      <td>False</td>\n",
              "    </tr>\n",
              "    <tr>\n",
              "      <th>spamburger</th>\n",
              "      <td>Spamburger</td>\n",
              "      <td>Spamburger is a type of hamburger that is made...</td>\n",
              "      <td>False</td>\n",
              "      <td>False</td>\n",
              "      <td>False</td>\n",
              "      <td>False</td>\n",
              "      <td>False</td>\n",
              "      <td>False</td>\n",
              "    </tr>\n",
              "    <tr>\n",
              "      <th>bacon-fried-rice</th>\n",
              "      <td>Bacon Fried Rice</td>\n",
              "      <td>Bacon fried rice is a savory and satisfying di...</td>\n",
              "      <td>False</td>\n",
              "      <td>True</td>\n",
              "      <td>False</td>\n",
              "      <td>False</td>\n",
              "      <td>False</td>\n",
              "      <td>False</td>\n",
              "    </tr>\n",
              "    <tr>\n",
              "      <th>chicken-fingers</th>\n",
              "      <td>Chicken Fingers</td>\n",
              "      <td>Chicken fingers are a popular dish made from c...</td>\n",
              "      <td>False</td>\n",
              "      <td>False</td>\n",
              "      <td>True</td>\n",
              "      <td>False</td>\n",
              "      <td>False</td>\n",
              "      <td>False</td>\n",
              "    </tr>\n",
              "    <tr>\n",
              "      <th>apple-crisp</th>\n",
              "      <td>Apple Crisp</td>\n",
              "      <td>Apple crisp is a classic dessert made with bak...</td>\n",
              "      <td>True</td>\n",
              "      <td>False</td>\n",
              "      <td>False</td>\n",
              "      <td>True</td>\n",
              "      <td>False</td>\n",
              "      <td>False</td>\n",
              "    </tr>\n",
              "    <tr>\n",
              "      <th>...</th>\n",
              "      <td>...</td>\n",
              "      <td>...</td>\n",
              "      <td>...</td>\n",
              "      <td>...</td>\n",
              "      <td>...</td>\n",
              "      <td>...</td>\n",
              "      <td>...</td>\n",
              "      <td>...</td>\n",
              "    </tr>\n",
              "    <tr>\n",
              "      <th>bacon-mac-and-cheese</th>\n",
              "      <td>Bacon Mac And Cheese</td>\n",
              "      <td>Bacon mac and cheese is a delicious and comfor...</td>\n",
              "      <td>False</td>\n",
              "      <td>True</td>\n",
              "      <td>False</td>\n",
              "      <td>False</td>\n",
              "      <td>False</td>\n",
              "      <td>False</td>\n",
              "    </tr>\n",
              "    <tr>\n",
              "      <th>chicken-alfredo-lasagna</th>\n",
              "      <td>Chicken Alfredo Lasagna</td>\n",
              "      <td>Chicken alfredo lasagna is a delicious twist o...</td>\n",
              "      <td>False</td>\n",
              "      <td>False</td>\n",
              "      <td>True</td>\n",
              "      <td>False</td>\n",
              "      <td>True</td>\n",
              "      <td>False</td>\n",
              "    </tr>\n",
              "    <tr>\n",
              "      <th>classic-beef-lasagna</th>\n",
              "      <td>Classic Beef Lasagna</td>\n",
              "      <td>Classic beef lasagna is a hearty and comfortin...</td>\n",
              "      <td>False</td>\n",
              "      <td>False</td>\n",
              "      <td>False</td>\n",
              "      <td>False</td>\n",
              "      <td>True</td>\n",
              "      <td>False</td>\n",
              "    </tr>\n",
              "    <tr>\n",
              "      <th>vegetarian-mushroom-lasagna</th>\n",
              "      <td>Vegetarian Mushroom Lasagna</td>\n",
              "      <td>Vegetarian mushroom lasagna is a delicious and...</td>\n",
              "      <td>False</td>\n",
              "      <td>False</td>\n",
              "      <td>False</td>\n",
              "      <td>False</td>\n",
              "      <td>True</td>\n",
              "      <td>True</td>\n",
              "    </tr>\n",
              "    <tr>\n",
              "      <th>spinach-and-ricotta-lasagna</th>\n",
              "      <td>Spinach And Ricotta Lasagna</td>\n",
              "      <td>Spinach and ricotta lasagna is a delicious veg...</td>\n",
              "      <td>False</td>\n",
              "      <td>False</td>\n",
              "      <td>False</td>\n",
              "      <td>False</td>\n",
              "      <td>True</td>\n",
              "      <td>False</td>\n",
              "    </tr>\n",
              "  </tbody>\n",
              "</table>\n",
              "<p>100 rows × 8 columns</p>\n",
              "</div>"
            ],
            "text/plain": [
              "                                            recipe_title  \\\n",
              "recipe_slug                                                \n",
              "falafel                                          Falafel   \n",
              "spamburger                                    Spamburger   \n",
              "bacon-fried-rice                        Bacon Fried Rice   \n",
              "chicken-fingers                          Chicken Fingers   \n",
              "apple-crisp                                  Apple Crisp   \n",
              "...                                                  ...   \n",
              "bacon-mac-and-cheese                Bacon Mac And Cheese   \n",
              "chicken-alfredo-lasagna          Chicken Alfredo Lasagna   \n",
              "classic-beef-lasagna                Classic Beef Lasagna   \n",
              "vegetarian-mushroom-lasagna  Vegetarian Mushroom Lasagna   \n",
              "spinach-and-ricotta-lasagna  Spinach And Ricotta Lasagna   \n",
              "\n",
              "                                                           recipe_introduction  \\\n",
              "recipe_slug                                                                      \n",
              "falafel                      Falafel is a popular Middle Eastern dish made ...   \n",
              "spamburger                   Spamburger is a type of hamburger that is made...   \n",
              "bacon-fried-rice             Bacon fried rice is a savory and satisfying di...   \n",
              "chicken-fingers              Chicken fingers are a popular dish made from c...   \n",
              "apple-crisp                  Apple crisp is a classic dessert made with bak...   \n",
              "...                                                                        ...   \n",
              "bacon-mac-and-cheese         Bacon mac and cheese is a delicious and comfor...   \n",
              "chicken-alfredo-lasagna      Chicken alfredo lasagna is a delicious twist o...   \n",
              "classic-beef-lasagna         Classic beef lasagna is a hearty and comfortin...   \n",
              "vegetarian-mushroom-lasagna  Vegetarian mushroom lasagna is a delicious and...   \n",
              "spinach-and-ricotta-lasagna  Spinach and ricotta lasagna is a delicious veg...   \n",
              "\n",
              "                             apple  bacon  chicken  crisp  lasagna    veg  \n",
              "recipe_slug                                                                \n",
              "falafel                      False  False    False  False    False  False  \n",
              "spamburger                   False  False    False  False    False  False  \n",
              "bacon-fried-rice             False   True    False  False    False  False  \n",
              "chicken-fingers              False  False     True  False    False  False  \n",
              "apple-crisp                   True  False    False   True    False  False  \n",
              "...                            ...    ...      ...    ...      ...    ...  \n",
              "bacon-mac-and-cheese         False   True    False  False    False  False  \n",
              "chicken-alfredo-lasagna      False  False     True  False     True  False  \n",
              "classic-beef-lasagna         False  False    False  False     True  False  \n",
              "vegetarian-mushroom-lasagna  False  False    False  False     True   True  \n",
              "spinach-and-ricotta-lasagna  False  False    False  False     True  False  \n",
              "\n",
              "[100 rows x 8 columns]"
            ]
          },
          "execution_count": 4,
          "metadata": {},
          "output_type": "execute_result"
        }
      ],
      "source": [
        "add_feature(\"apple\")\n",
        "add_feature(\"bacon\")\n",
        "add_feature(\"chicken\")\n",
        "add_feature(\"crisp\")\n",
        "add_feature(\"lasagna\")\n",
        "add_feature(\"veg\")\n",
        "\n",
        "recipes"
      ]
    },
    {
      "cell_type": "code",
      "execution_count": 5,
      "metadata": {},
      "outputs": [
        {
          "data": {
            "text/html": [
              "<div>\n",
              "<style scoped>\n",
              "    .dataframe tbody tr th:only-of-type {\n",
              "        vertical-align: middle;\n",
              "    }\n",
              "\n",
              "    .dataframe tbody tr th {\n",
              "        vertical-align: top;\n",
              "    }\n",
              "\n",
              "    .dataframe thead th {\n",
              "        text-align: right;\n",
              "    }\n",
              "</style>\n",
              "<table border=\"1\" class=\"dataframe\">\n",
              "  <thead>\n",
              "    <tr style=\"text-align: right;\">\n",
              "      <th></th>\n",
              "      <th>recipe_title</th>\n",
              "      <th>rating_bad</th>\n",
              "      <th>rating</th>\n",
              "    </tr>\n",
              "    <tr>\n",
              "      <th>recipe_slug</th>\n",
              "      <th></th>\n",
              "      <th></th>\n",
              "      <th></th>\n",
              "    </tr>\n",
              "  </thead>\n",
              "  <tbody>\n",
              "    <tr>\n",
              "      <th>falafel</th>\n",
              "      <td>Falafel</td>\n",
              "      <td>2.329163</td>\n",
              "      <td>2.329163</td>\n",
              "    </tr>\n",
              "    <tr>\n",
              "      <th>spamburger</th>\n",
              "      <td>Spamburger</td>\n",
              "      <td>2.476303</td>\n",
              "      <td>2.476303</td>\n",
              "    </tr>\n",
              "    <tr>\n",
              "      <th>bacon-fried-rice</th>\n",
              "      <td>Bacon Fried Rice</td>\n",
              "      <td>5.000000</td>\n",
              "      <td>5.000000</td>\n",
              "    </tr>\n",
              "    <tr>\n",
              "      <th>chicken-fingers</th>\n",
              "      <td>Chicken Fingers</td>\n",
              "      <td>2.634748</td>\n",
              "      <td>2.634748</td>\n",
              "    </tr>\n",
              "    <tr>\n",
              "      <th>apple-crisp</th>\n",
              "      <td>Apple Crisp</td>\n",
              "      <td>2.626110</td>\n",
              "      <td>2.626110</td>\n",
              "    </tr>\n",
              "    <tr>\n",
              "      <th>...</th>\n",
              "      <td>...</td>\n",
              "      <td>...</td>\n",
              "      <td>...</td>\n",
              "    </tr>\n",
              "    <tr>\n",
              "      <th>bacon-mac-and-cheese</th>\n",
              "      <td>Bacon Mac And Cheese</td>\n",
              "      <td>5.000000</td>\n",
              "      <td>5.000000</td>\n",
              "    </tr>\n",
              "    <tr>\n",
              "      <th>chicken-alfredo-lasagna</th>\n",
              "      <td>Chicken Alfredo Lasagna</td>\n",
              "      <td>2.044531</td>\n",
              "      <td>2.044531</td>\n",
              "    </tr>\n",
              "    <tr>\n",
              "      <th>classic-beef-lasagna</th>\n",
              "      <td>Classic Beef Lasagna</td>\n",
              "      <td>2.898128</td>\n",
              "      <td>2.898128</td>\n",
              "    </tr>\n",
              "    <tr>\n",
              "      <th>vegetarian-mushroom-lasagna</th>\n",
              "      <td>Vegetarian Mushroom Lasagna</td>\n",
              "      <td>1.000000</td>\n",
              "      <td>1.000000</td>\n",
              "    </tr>\n",
              "    <tr>\n",
              "      <th>spinach-and-ricotta-lasagna</th>\n",
              "      <td>Spinach And Ricotta Lasagna</td>\n",
              "      <td>2.106322</td>\n",
              "      <td>2.106322</td>\n",
              "    </tr>\n",
              "  </tbody>\n",
              "</table>\n",
              "<p>100 rows × 3 columns</p>\n",
              "</div>"
            ],
            "text/plain": [
              "                                            recipe_title  rating_bad    rating\n",
              "recipe_slug                                                                   \n",
              "falafel                                          Falafel    2.329163  2.329163\n",
              "spamburger                                    Spamburger    2.476303  2.476303\n",
              "bacon-fried-rice                        Bacon Fried Rice    5.000000  5.000000\n",
              "chicken-fingers                          Chicken Fingers    2.634748  2.634748\n",
              "apple-crisp                                  Apple Crisp    2.626110  2.626110\n",
              "...                                                  ...         ...       ...\n",
              "bacon-mac-and-cheese                Bacon Mac And Cheese    5.000000  5.000000\n",
              "chicken-alfredo-lasagna          Chicken Alfredo Lasagna    2.044531  2.044531\n",
              "classic-beef-lasagna                Classic Beef Lasagna    2.898128  2.898128\n",
              "vegetarian-mushroom-lasagna  Vegetarian Mushroom Lasagna    1.000000  1.000000\n",
              "spinach-and-ricotta-lasagna  Spinach And Ricotta Lasagna    2.106322  2.106322\n",
              "\n",
              "[100 rows x 3 columns]"
            ]
          },
          "execution_count": 5,
          "metadata": {},
          "output_type": "execute_result"
        }
      ],
      "source": [
        "ratings = pd.DataFrame({\"recipe_title\": recipes[\"recipe_title\"],\n",
        "                               \"rating_bad\": np.random.uniform(low=2, high=3, size=len(recipes))},\n",
        "                              index=recipes.index)\n",
        "ratings.loc[recipes['veg'], 'rating_bad'] = 1\n",
        "ratings.loc[recipes['bacon'], 'rating_bad'] = 5\n",
        "ratings['rating'] = ratings['rating_bad']\n",
        "ratings"
      ]
    },
    {
      "cell_type": "code",
      "execution_count": 8,
      "metadata": {},
      "outputs": [],
      "source": [
        "ratings[\"rating\"] = (ratings[\"rating_bad\"] - 1) * 0.25"
      ]
    },
    {
      "cell_type": "code",
      "execution_count": null,
      "metadata": {},
      "outputs": [],
      "source": [
        "ratings"
      ]
    },
    {
      "cell_type": "code",
      "execution_count": null,
      "metadata": {},
      "outputs": [],
      "source": [
        "ratings.to_csv(\"ratings.tsv\", sep=\"\\t\", index=False)"
      ]
    },
    {
      "cell_type": "markdown",
      "metadata": {
        "id": "Eh7UaX6OvuWo"
      },
      "source": [
        "Submit \"ratings.tsv\" in Gradescope."
      ]
    },
    {
      "cell_type": "markdown",
      "metadata": {
        "id": "NiCwaZwr5M67"
      },
      "source": [
        "## Part 2: Construct Model Input\n",
        "\n",
        "Use your file \"ratings.tsv\" combined with \"recipe-tags.tsv\" to create a new file \"features.tsv\" with a column recipe_slug, a column bias which is hard-coded to one, and a column for each tag that appears in \"recipe-tags.tsv\".\n",
        "The tag column in this file should be a 0-1 encoding of the recipe tags for each recipe.\n",
        "[Pandas reshaping function methods](https://pandas.pydata.org/docs/user_guide/reshaping.html) may be helpful."
      ]
    },
    {
      "cell_type": "markdown",
      "metadata": {
        "id": "8WWi_JJXocEb"
      },
      "source": [
        "The bias column will make later LinUCB calculations easier since it will just be another dimension."
      ]
    },
    {
      "cell_type": "markdown",
      "metadata": {
        "id": "MHR-BsD9539j"
      },
      "source": [
        "Hint: For later modeling steps, it will be important to have the feature data (inputs) and the rating data (target outputs) in the same order.\n",
        "It is highly recommended to make sure that \"features.tsv\" and \"ratings.tsv\" have the recipe slugs in the same order."
      ]
    },
    {
      "cell_type": "code",
      "execution_count": 11,
      "metadata": {
        "id": "cGvj258d8nnv"
      },
      "outputs": [
        {
          "data": {
            "text/html": [
              "<div>\n",
              "<style scoped>\n",
              "    .dataframe tbody tr th:only-of-type {\n",
              "        vertical-align: middle;\n",
              "    }\n",
              "\n",
              "    .dataframe tbody tr th {\n",
              "        vertical-align: top;\n",
              "    }\n",
              "\n",
              "    .dataframe thead th {\n",
              "        text-align: right;\n",
              "    }\n",
              "</style>\n",
              "<table border=\"1\" class=\"dataframe\">\n",
              "  <thead>\n",
              "    <tr style=\"text-align: right;\">\n",
              "      <th></th>\n",
              "      <th>apple</th>\n",
              "      <th>bacon</th>\n",
              "      <th>chicken</th>\n",
              "      <th>crisp</th>\n",
              "      <th>lasagna</th>\n",
              "      <th>veg</th>\n",
              "    </tr>\n",
              "    <tr>\n",
              "      <th>recipe_slug</th>\n",
              "      <th></th>\n",
              "      <th></th>\n",
              "      <th></th>\n",
              "      <th></th>\n",
              "      <th></th>\n",
              "      <th></th>\n",
              "    </tr>\n",
              "  </thead>\n",
              "  <tbody>\n",
              "    <tr>\n",
              "      <th>falafel</th>\n",
              "      <td>False</td>\n",
              "      <td>False</td>\n",
              "      <td>False</td>\n",
              "      <td>False</td>\n",
              "      <td>False</td>\n",
              "      <td>False</td>\n",
              "    </tr>\n",
              "    <tr>\n",
              "      <th>spamburger</th>\n",
              "      <td>False</td>\n",
              "      <td>False</td>\n",
              "      <td>False</td>\n",
              "      <td>False</td>\n",
              "      <td>False</td>\n",
              "      <td>False</td>\n",
              "    </tr>\n",
              "    <tr>\n",
              "      <th>bacon-fried-rice</th>\n",
              "      <td>False</td>\n",
              "      <td>True</td>\n",
              "      <td>False</td>\n",
              "      <td>False</td>\n",
              "      <td>False</td>\n",
              "      <td>False</td>\n",
              "    </tr>\n",
              "    <tr>\n",
              "      <th>chicken-fingers</th>\n",
              "      <td>False</td>\n",
              "      <td>False</td>\n",
              "      <td>True</td>\n",
              "      <td>False</td>\n",
              "      <td>False</td>\n",
              "      <td>False</td>\n",
              "    </tr>\n",
              "    <tr>\n",
              "      <th>apple-crisp</th>\n",
              "      <td>True</td>\n",
              "      <td>False</td>\n",
              "      <td>False</td>\n",
              "      <td>True</td>\n",
              "      <td>False</td>\n",
              "      <td>False</td>\n",
              "    </tr>\n",
              "    <tr>\n",
              "      <th>...</th>\n",
              "      <td>...</td>\n",
              "      <td>...</td>\n",
              "      <td>...</td>\n",
              "      <td>...</td>\n",
              "      <td>...</td>\n",
              "      <td>...</td>\n",
              "    </tr>\n",
              "    <tr>\n",
              "      <th>bacon-mac-and-cheese</th>\n",
              "      <td>False</td>\n",
              "      <td>True</td>\n",
              "      <td>False</td>\n",
              "      <td>False</td>\n",
              "      <td>False</td>\n",
              "      <td>False</td>\n",
              "    </tr>\n",
              "    <tr>\n",
              "      <th>chicken-alfredo-lasagna</th>\n",
              "      <td>False</td>\n",
              "      <td>False</td>\n",
              "      <td>True</td>\n",
              "      <td>False</td>\n",
              "      <td>True</td>\n",
              "      <td>False</td>\n",
              "    </tr>\n",
              "    <tr>\n",
              "      <th>classic-beef-lasagna</th>\n",
              "      <td>False</td>\n",
              "      <td>False</td>\n",
              "      <td>False</td>\n",
              "      <td>False</td>\n",
              "      <td>True</td>\n",
              "      <td>False</td>\n",
              "    </tr>\n",
              "    <tr>\n",
              "      <th>vegetarian-mushroom-lasagna</th>\n",
              "      <td>False</td>\n",
              "      <td>False</td>\n",
              "      <td>False</td>\n",
              "      <td>False</td>\n",
              "      <td>True</td>\n",
              "      <td>True</td>\n",
              "    </tr>\n",
              "    <tr>\n",
              "      <th>spinach-and-ricotta-lasagna</th>\n",
              "      <td>False</td>\n",
              "      <td>False</td>\n",
              "      <td>False</td>\n",
              "      <td>False</td>\n",
              "      <td>True</td>\n",
              "      <td>False</td>\n",
              "    </tr>\n",
              "  </tbody>\n",
              "</table>\n",
              "<p>100 rows × 6 columns</p>\n",
              "</div>"
            ],
            "text/plain": [
              "                             apple  bacon  chicken  crisp  lasagna    veg\n",
              "recipe_slug                                                              \n",
              "falafel                      False  False    False  False    False  False\n",
              "spamburger                   False  False    False  False    False  False\n",
              "bacon-fried-rice             False   True    False  False    False  False\n",
              "chicken-fingers              False  False     True  False    False  False\n",
              "apple-crisp                   True  False    False   True    False  False\n",
              "...                            ...    ...      ...    ...      ...    ...\n",
              "bacon-mac-and-cheese         False   True    False  False    False  False\n",
              "chicken-alfredo-lasagna      False  False     True  False     True  False\n",
              "classic-beef-lasagna         False  False    False  False     True  False\n",
              "vegetarian-mushroom-lasagna  False  False    False  False     True   True\n",
              "spinach-and-ricotta-lasagna  False  False    False  False     True  False\n",
              "\n",
              "[100 rows x 6 columns]"
            ]
          },
          "execution_count": 11,
          "metadata": {},
          "output_type": "execute_result"
        }
      ],
      "source": [
        "# YOUR CHANGES HERE\n",
        "features = recipes[[c for c in recipes.columns if not c.startswith(\"recipe_\")]]\n",
        "features"
      ]
    },
    {
      "cell_type": "code",
      "execution_count": 15,
      "metadata": {},
      "outputs": [
        {
          "data": {
            "text/html": [
              "<div>\n",
              "<style scoped>\n",
              "    .dataframe tbody tr th:only-of-type {\n",
              "        vertical-align: middle;\n",
              "    }\n",
              "\n",
              "    .dataframe tbody tr th {\n",
              "        vertical-align: top;\n",
              "    }\n",
              "\n",
              "    .dataframe thead th {\n",
              "        text-align: right;\n",
              "    }\n",
              "</style>\n",
              "<table border=\"1\" class=\"dataframe\">\n",
              "  <thead>\n",
              "    <tr style=\"text-align: right;\">\n",
              "      <th></th>\n",
              "      <th>apple</th>\n",
              "      <th>bacon</th>\n",
              "      <th>chicken</th>\n",
              "      <th>crisp</th>\n",
              "      <th>lasagna</th>\n",
              "      <th>veg</th>\n",
              "    </tr>\n",
              "    <tr>\n",
              "      <th>recipe_slug</th>\n",
              "      <th></th>\n",
              "      <th></th>\n",
              "      <th></th>\n",
              "      <th></th>\n",
              "      <th></th>\n",
              "      <th></th>\n",
              "    </tr>\n",
              "  </thead>\n",
              "  <tbody>\n",
              "    <tr>\n",
              "      <th>falafel</th>\n",
              "      <td>0</td>\n",
              "      <td>0</td>\n",
              "      <td>0</td>\n",
              "      <td>0</td>\n",
              "      <td>0</td>\n",
              "      <td>0</td>\n",
              "    </tr>\n",
              "    <tr>\n",
              "      <th>spamburger</th>\n",
              "      <td>0</td>\n",
              "      <td>0</td>\n",
              "      <td>0</td>\n",
              "      <td>0</td>\n",
              "      <td>0</td>\n",
              "      <td>0</td>\n",
              "    </tr>\n",
              "    <tr>\n",
              "      <th>bacon-fried-rice</th>\n",
              "      <td>0</td>\n",
              "      <td>1</td>\n",
              "      <td>0</td>\n",
              "      <td>0</td>\n",
              "      <td>0</td>\n",
              "      <td>0</td>\n",
              "    </tr>\n",
              "    <tr>\n",
              "      <th>chicken-fingers</th>\n",
              "      <td>0</td>\n",
              "      <td>0</td>\n",
              "      <td>1</td>\n",
              "      <td>0</td>\n",
              "      <td>0</td>\n",
              "      <td>0</td>\n",
              "    </tr>\n",
              "    <tr>\n",
              "      <th>apple-crisp</th>\n",
              "      <td>1</td>\n",
              "      <td>0</td>\n",
              "      <td>0</td>\n",
              "      <td>1</td>\n",
              "      <td>0</td>\n",
              "      <td>0</td>\n",
              "    </tr>\n",
              "    <tr>\n",
              "      <th>...</th>\n",
              "      <td>...</td>\n",
              "      <td>...</td>\n",
              "      <td>...</td>\n",
              "      <td>...</td>\n",
              "      <td>...</td>\n",
              "      <td>...</td>\n",
              "    </tr>\n",
              "    <tr>\n",
              "      <th>bacon-mac-and-cheese</th>\n",
              "      <td>0</td>\n",
              "      <td>1</td>\n",
              "      <td>0</td>\n",
              "      <td>0</td>\n",
              "      <td>0</td>\n",
              "      <td>0</td>\n",
              "    </tr>\n",
              "    <tr>\n",
              "      <th>chicken-alfredo-lasagna</th>\n",
              "      <td>0</td>\n",
              "      <td>0</td>\n",
              "      <td>1</td>\n",
              "      <td>0</td>\n",
              "      <td>1</td>\n",
              "      <td>0</td>\n",
              "    </tr>\n",
              "    <tr>\n",
              "      <th>classic-beef-lasagna</th>\n",
              "      <td>0</td>\n",
              "      <td>0</td>\n",
              "      <td>0</td>\n",
              "      <td>0</td>\n",
              "      <td>1</td>\n",
              "      <td>0</td>\n",
              "    </tr>\n",
              "    <tr>\n",
              "      <th>vegetarian-mushroom-lasagna</th>\n",
              "      <td>0</td>\n",
              "      <td>0</td>\n",
              "      <td>0</td>\n",
              "      <td>0</td>\n",
              "      <td>1</td>\n",
              "      <td>1</td>\n",
              "    </tr>\n",
              "    <tr>\n",
              "      <th>spinach-and-ricotta-lasagna</th>\n",
              "      <td>0</td>\n",
              "      <td>0</td>\n",
              "      <td>0</td>\n",
              "      <td>0</td>\n",
              "      <td>1</td>\n",
              "      <td>0</td>\n",
              "    </tr>\n",
              "  </tbody>\n",
              "</table>\n",
              "<p>100 rows × 6 columns</p>\n",
              "</div>"
            ],
            "text/plain": [
              "                             apple  bacon  chicken  crisp  lasagna  veg\n",
              "recipe_slug                                                            \n",
              "falafel                          0      0        0      0        0    0\n",
              "spamburger                       0      0        0      0        0    0\n",
              "bacon-fried-rice                 0      1        0      0        0    0\n",
              "chicken-fingers                  0      0        1      0        0    0\n",
              "apple-crisp                      1      0        0      1        0    0\n",
              "...                            ...    ...      ...    ...      ...  ...\n",
              "bacon-mac-and-cheese             0      1        0      0        0    0\n",
              "chicken-alfredo-lasagna          0      0        1      0        1    0\n",
              "classic-beef-lasagna             0      0        0      0        1    0\n",
              "vegetarian-mushroom-lasagna      0      0        0      0        1    1\n",
              "spinach-and-ricotta-lasagna      0      0        0      0        1    0\n",
              "\n",
              "[100 rows x 6 columns]"
            ]
          },
          "execution_count": 15,
          "metadata": {},
          "output_type": "execute_result"
        }
      ],
      "source": [
        "features = features.astype({c: int for c in features.select_dtypes(bool).columns})\n",
        "features"
      ]
    },
    {
      "cell_type": "code",
      "execution_count": 16,
      "metadata": {},
      "outputs": [
        {
          "data": {
            "text/plain": [
              "apple       4\n",
              "bacon      13\n",
              "chicken     5\n",
              "crisp       6\n",
              "lasagna     6\n",
              "veg         2\n",
              "dtype: int64"
            ]
          },
          "execution_count": 16,
          "metadata": {},
          "output_type": "execute_result"
        }
      ],
      "source": [
        "features.sum()"
      ]
    },
    {
      "cell_type": "code",
      "execution_count": 18,
      "metadata": {},
      "outputs": [
        {
          "data": {
            "text/plain": [
              "recipe_slug\n",
              "falafel                        0\n",
              "spamburger                     0\n",
              "bacon-fried-rice               1\n",
              "chicken-fingers                1\n",
              "apple-crisp                    2\n",
              "                              ..\n",
              "bacon-mac-and-cheese           1\n",
              "chicken-alfredo-lasagna        2\n",
              "classic-beef-lasagna           1\n",
              "vegetarian-mushroom-lasagna    2\n",
              "spinach-and-ricotta-lasagna    1\n",
              "Length: 100, dtype: int64"
            ]
          },
          "execution_count": 18,
          "metadata": {},
          "output_type": "execute_result"
        }
      ],
      "source": [
        "features.T.sum().T"
      ]
    },
    {
      "cell_type": "code",
      "execution_count": 19,
      "metadata": {},
      "outputs": [],
      "source": [
        "features.to_csv(\"features.tsv\", sep=\"\\t\", index=False)"
      ]
    },
    {
      "cell_type": "markdown",
      "metadata": {
        "id": "w63ji-Oi6oH7"
      },
      "source": [
        "Submit \"features.tsv\" in Gradescope."
      ]
    },
    {
      "cell_type": "markdown",
      "metadata": {
        "id": "4TeXvznlwJzo"
      },
      "source": [
        "## Part 3: Linear Preference Model\n",
        "\n",
        "Use your feature and rating files to build a ridge regression model with ridge regression's regularization parameter $\\alpha$ set to 1.\n"
      ]
    },
    {
      "cell_type": "markdown",
      "metadata": {
        "id": "aVlUnVv4oDIk"
      },
      "source": [
        "Hint: If you are using scikit-learn modeling classes, you should use `fit_intercept=False` since that intercept value will be redundant with the bias coefficient."
      ]
    },
    {
      "cell_type": "markdown",
      "metadata": {
        "id": "NLrBu-z7A45W"
      },
      "source": [
        "Hint: The estimate component of the bounds should match the previous estimate, so you should be able to just focus on the variance component of the bounds now."
      ]
    },
    {
      "cell_type": "code",
      "execution_count": null,
      "metadata": {
        "id": "dxtiRunPwPYz"
      },
      "outputs": [],
      "source": [
        "# YOUR CHANGES HERE\n",
        "\n",
        "..."
      ]
    },
    {
      "cell_type": "markdown",
      "metadata": {
        "id": "fw9LaHF_8tsA"
      },
      "source": [
        "Save the coefficients of this model in a file \"model.tsv\" with columns \"recipe_tag\" and \"coefficient\".\n",
        "Do not include the bias."
      ]
    },
    {
      "cell_type": "code",
      "execution_count": null,
      "metadata": {
        "id": "fiMBlU4L8uSR"
      },
      "outputs": [],
      "source": [
        "# YOUR CHANGES HERE\n",
        "\n",
        "..."
      ]
    },
    {
      "cell_type": "markdown",
      "metadata": {
        "id": "86uS_zZ0wQxC"
      },
      "source": [
        "Submit \"model.tsv\" in Gradescope."
      ]
    },
    {
      "cell_type": "markdown",
      "metadata": {
        "id": "B1Nfs7zCsDpj"
      },
      "source": [
        "## Part 4: Recipe Estimates\n",
        "\n",
        "Use the recipe model to estimate the score of every recipe.\n",
        "Save these estimates to a file \"estimates.tsv\" with columns recipe_slug and score_estimate."
      ]
    },
    {
      "cell_type": "code",
      "execution_count": null,
      "metadata": {
        "id": "pIClPwYVso5a"
      },
      "outputs": [],
      "source": [
        "# YOUR CHANGES HERE\n",
        "\n",
        "..."
      ]
    },
    {
      "cell_type": "markdown",
      "metadata": {
        "id": "i5t3uSE_srMA"
      },
      "source": [
        "Submit \"estimates.tsv\" in Gradescope."
      ]
    },
    {
      "cell_type": "markdown",
      "metadata": {
        "id": "yTBplNhRst8q"
      },
      "source": [
        "## Part 5: LinUCB Bounds\n",
        "\n",
        "Calculate the upper bounds of LinUCB using data corresponding to trying every recipe once and receiving the rating in \"ratings.tsv\" as the reward.\n",
        "Keep the ridge regression regularization parameter at 1, and set LinUCB's $\\alpha$ parameter to 2.\n",
        "Save these upper bounds to a file \"bounds.tsv\" with columns recipe_slug and score_bound."
      ]
    },
    {
      "cell_type": "code",
      "execution_count": null,
      "metadata": {
        "id": "kY7aWD_PuP0W"
      },
      "outputs": [],
      "source": [
        "# YOUR CHANGES HERE\n",
        "\n",
        "def calculate_bounds(recipe_choices=[], alpha=1.0):\n",
        "    recipe_choices = list(recipe_choices)\n",
        "\n",
        "    D = features.loc[recipe_choices].to_numpy(dtype=\"float64\")\n",
        "    c = ratings.loc[recipe_choices, 'rating'].to_numpy(dtype=\"float64\")\n",
        "\n",
        "    DTDI = np.eye(D.shape[1])\n",
        "    if len(recipe_choices) > 0:\n",
        "        DTDI += D.T @ D\n",
        "    DTDI_inv = np.linalg.inv(DTDI)\n",
        "\n",
        "    theta_hat = DTDI_inv @ D.T @ c\n",
        "    features_array = features.to_numpy()\n",
        "    means = features_array @ theta_hat\n",
        "\n",
        "    variances = []\n",
        "    for z in features_array:\n",
        "        z = z.reshape(-1, 1)\n",
        "        variances.append((z.T @ DTDI_inv @ z).item())\n",
        "    variances = np.array(variances)\n",
        "\n",
        "    df = pd.DataFrame({\"score_estimate\": means,\n",
        "    \"score_bound\": means + alpha * np.sqrt(variances)}, index=features.index)\n",
        "    df[\"num_features\"] = features.T.sum().T\n",
        "\n",
        "    return df\n",
        "\n",
        "calculate_bounds().sort_values(\"score_bound\", ascending=False)"
      ]
    },
    {
      "cell_type": "code",
      "execution_count": null,
      "metadata": {},
      "outputs": [],
      "source": [
        "calculate_bounds([\"bacon-mac-and-cheese\"]* 3)"
      ]
    },
    {
      "cell_type": "markdown",
      "metadata": {
        "id": "ZQ4RPppFvG-S"
      },
      "source": [
        "Submit \"bounds.tsv\" in Gradescope."
      ]
    },
    {
      "cell_type": "markdown",
      "metadata": {
        "id": "AfazOSWlwYsP"
      },
      "source": [
        "## Part 6: Make Online Recommendations\n",
        "\n",
        "Implement LinUCB to make 100 recommendations starting with no data and using the same parameters as in part 5.\n",
        "One recommendation should be made at a time and you can break ties arbitrarily.\n",
        "After each recommendation, use the rating from part 1 as the reward to update the LinUCB data.\n",
        "Record the recommendations made in a file \"recommendations.tsv\" with columns \"recipe_slug\", \"score_bound\", and \"reward\".\n",
        "The rows in this file should be in the same order as the recommendations were made."
      ]
    },
    {
      "cell_type": "code",
      "execution_count": null,
      "metadata": {
        "id": "hQ7r45B7wm4v"
      },
      "outputs": [],
      "source": [
        "# YOUR CHANGES HERE\n",
        "def try_picks(**kwargs):\n",
        "    recipe_choices = []\n",
        "    for i in range(100):\n",
        "        current_bounds = calculate_bounds([r.index[0] for r in recipe_choices], **kwargs)\n",
        "        best_bound = current_bounds[\"score_bound\"].max()\n",
        "        best_recipes = current_bounds[current_bounds[\"score_bound\"] == best_bound].copy()\n",
        "        best_recipes[\"true_rating\"] = ratings.loc[best_recipes.index, \"rating\"]\n",
        "        choice = best_recipes.sample(1)\n",
        "        recipe_choices.append(choice)\n",
        "\n",
        "    return pd.concat(recipe_choices, axis=0).reset_index()\n",
        "\n",
        "picks = try_picks()\n",
        "picks"
      ]
    },
    {
      "cell_type": "markdown",
      "metadata": {
        "id": "23jv0cD0woSt"
      },
      "source": [
        "Submit \"recommendations.tsv\" in Gradescope."
      ]
    },
    {
      "cell_type": "markdown",
      "metadata": {
        "id": "zi8lV2pbvWMs"
      },
      "source": [
        "## Part 7: Acknowledgments\n",
        "\n",
        "Make a file \"acknowledgments.txt\" documenting any outside sources or help on this project.\n",
        "If you discussed this assignment with anyone, please acknowledge them here.\n",
        "If you used any libraries not mentioned in this module's content, please list them with a brief explanation what you used them for.\n",
        "If you used any generative AI tools, please add links to your transcripts below, and any other information that you feel is necessary to comply with the generative AI policy.\n",
        "If no acknowledgements are appropriate, just write none in the file.\n"
      ]
    },
    {
      "cell_type": "markdown",
      "metadata": {
        "id": "SuNJe62UxCoH"
      },
      "source": [
        "Submit \"acknowledgments.txt\" in Gradescope."
      ]
    },
    {
      "cell_type": "markdown",
      "metadata": {
        "id": "smsTLuFcvR-I"
      },
      "source": [
        "## Part 8: Code\n",
        "\n",
        "Please submit a Jupyter notebook that can reproduce all your calculations and recreate the previously submitted files.\n"
      ]
    },
    {
      "cell_type": "markdown",
      "metadata": {
        "id": "3cgzHyF7wxpr"
      },
      "source": [
        "Submit \"project.ipynb\" in Gradescope."
      ]
    }
  ],
  "metadata": {
    "colab": {
      "toc_visible": false
    },
    "kernelspec": {
      "display_name": "Python 3",
      "name": "python3"
    },
    "language_info": {
      "codemirror_mode": {
        "name": "ipython",
        "version": 3
      },
      "file_extension": ".py",
      "mimetype": "text/x-python",
      "name": "python",
      "nbconvert_exporter": "python",
      "pygments_lexer": "ipython3",
      "version": "3.12.1"
    }
  },
  "nbformat": 4,
  "nbformat_minor": 0
}
